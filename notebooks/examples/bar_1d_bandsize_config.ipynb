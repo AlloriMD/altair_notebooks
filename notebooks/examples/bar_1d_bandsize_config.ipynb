{
 "cells": [
  {
   "cell_type": "markdown",
   "metadata": {},
   "source": [
    "<small>*Notebook auto-generated from [``altair/examples/json/bar_1d_bandsize_config.vl.json``](../../altair/examples/json/bar_1d_bandsize_config.vl.json)*</small>\n",
    "\n",
    "# Altair Example: Bar 1D Bandsize Config\n",
    "\n",
    "--\n",
    "\n"
   ]
  },
  {
   "cell_type": "code",
   "execution_count": 1,
   "metadata": {},
   "outputs": [],
   "source": [
    "# Uncomment and run these two lines to enable rendering in JupyterLab/nteract\n",
    "# from altair import enable_mime_rendering\n",
    "# enable_mime_rendering()"
   ]
  },
  {
   "cell_type": "markdown",
   "metadata": {},
   "source": [
    "## Load Dataset\n",
    "The data comes in the form of a Pandas Dataframe:"
   ]
  },
  {
   "cell_type": "code",
   "execution_count": 2,
   "metadata": {},
   "outputs": [
    {
     "data": {
      "text/html": [
       "<div>\n",
       "<style>\n",
       "    .dataframe thead tr:only-child th {\n",
       "        text-align: right;\n",
       "    }\n",
       "\n",
       "    .dataframe thead th {\n",
       "        text-align: left;\n",
       "    }\n",
       "\n",
       "    .dataframe tbody tr th {\n",
       "        vertical-align: top;\n",
       "    }\n",
       "</style>\n",
       "<table border=\"1\" class=\"dataframe\">\n",
       "  <thead>\n",
       "    <tr style=\"text-align: right;\">\n",
       "      <th></th>\n",
       "      <th>age</th>\n",
       "      <th>people</th>\n",
       "      <th>sex</th>\n",
       "      <th>year</th>\n",
       "    </tr>\n",
       "  </thead>\n",
       "  <tbody>\n",
       "    <tr>\n",
       "      <th>0</th>\n",
       "      <td>0</td>\n",
       "      <td>1483789</td>\n",
       "      <td>1</td>\n",
       "      <td>1850</td>\n",
       "    </tr>\n",
       "    <tr>\n",
       "      <th>1</th>\n",
       "      <td>0</td>\n",
       "      <td>1450376</td>\n",
       "      <td>2</td>\n",
       "      <td>1850</td>\n",
       "    </tr>\n",
       "    <tr>\n",
       "      <th>2</th>\n",
       "      <td>5</td>\n",
       "      <td>1411067</td>\n",
       "      <td>1</td>\n",
       "      <td>1850</td>\n",
       "    </tr>\n",
       "    <tr>\n",
       "      <th>3</th>\n",
       "      <td>5</td>\n",
       "      <td>1359668</td>\n",
       "      <td>2</td>\n",
       "      <td>1850</td>\n",
       "    </tr>\n",
       "    <tr>\n",
       "      <th>4</th>\n",
       "      <td>10</td>\n",
       "      <td>1260099</td>\n",
       "      <td>1</td>\n",
       "      <td>1850</td>\n",
       "    </tr>\n",
       "  </tbody>\n",
       "</table>\n",
       "</div>"
      ],
      "text/plain": [
       "   age   people  sex  year\n",
       "0    0  1483789    1  1850\n",
       "1    0  1450376    2  1850\n",
       "2    5  1411067    1  1850\n",
       "3    5  1359668    2  1850\n",
       "4   10  1260099    1  1850"
      ]
     },
     "execution_count": 2,
     "metadata": {},
     "output_type": "execute_result"
    }
   ],
   "source": [
    "from altair import load_dataset\n",
    "data = load_dataset(\"population\")\n",
    "data.head()"
   ]
  },
  {
   "cell_type": "markdown",
   "metadata": {},
   "source": [
    "## Define Altair Specification"
   ]
  },
  {
   "cell_type": "code",
   "execution_count": 3,
   "metadata": {},
   "outputs": [],
   "source": [
    "from altair import *  # Import the altair API\n",
    "\n",
    "chart = Chart(data).mark_bar().encode(\n",
    "    x=X('sum(people):Q',\n",
    "        axis=Axis(\n",
    "            title='population',\n",
    "        ),\n",
    "    ),\n",
    ").transform_data(\n",
    "    filter='datum.year == 2000',\n",
    ").configure_scale(\n",
    "    bandSize=21.0,\n",
    ")\n",
    "\n",
    "chart.max_rows = len(data)  # Altair 1.2.1 has a max_rows of 500 by default"
   ]
  },
  {
   "cell_type": "markdown",
   "metadata": {},
   "source": [
    "IPython rich display will invoke Vega-Lite:"
   ]
  },
  {
   "cell_type": "code",
   "execution_count": 4,
   "metadata": {},
   "outputs": [
    {
     "data": {
      "text/html": [
       "<div class=\"vega-embed\" id=\"2d267453-f7b6-4076-a5f8-5923c2885e5e\"></div>\n",
       "\n",
       "<style>\n",
       ".vega-embed svg, .vega-embed canvas {\n",
       "  border: 1px dotted gray;\n",
       "}\n",
       "\n",
       ".vega-embed .vega-actions a {\n",
       "  margin-right: 6px;\n",
       "}\n",
       "</style>\n"
      ]
     },
     "metadata": {
      "jupyter-vega": "#2d267453-f7b6-4076-a5f8-5923c2885e5e"
     },
     "output_type": "display_data"
    },
    {
     "data": {
      "application/javascript": [
       "var spec = {\"mark\": \"bar\", \"$schema\": \"https://vega.github.io/schema/vega-lite/v1.2.1.json\", \"encoding\": {\"x\": {\"axis\": {\"title\": \"population\"}, \"field\": \"people\", \"type\": \"quantitative\", \"aggregate\": \"sum\"}}, \"config\": {\"cell\": {\"height\": 350, \"width\": 500}, \"scale\": {\"bandSize\": 21.0}}, \"data\": {\"values\": [{\"age\": 0, \"people\": 1483789, \"sex\": 1, \"year\": 1850}, {\"age\": 0, \"people\": 1450376, \"sex\": 2, \"year\": 1850}, {\"age\": 5, \"people\": 1411067, \"sex\": 1, \"year\": 1850}, {\"age\": 5, \"people\": 1359668, \"sex\": 2, \"year\": 1850}, {\"age\": 10, \"people\": 1260099, \"sex\": 1, \"year\": 1850}, {\"age\": 10, \"people\": 1216114, \"sex\": 2, \"year\": 1850}, {\"age\": 15, \"people\": 1077133, \"sex\": 1, \"year\": 1850}, {\"age\": 15, \"people\": 1110619, \"sex\": 2, \"year\": 1850}, {\"age\": 20, \"people\": 1017281, \"sex\": 1, \"year\": 1850}, {\"age\": 20, \"people\": 1003841, \"sex\": 2, \"year\": 1850}, {\"age\": 25, \"people\": 862547, \"sex\": 1, \"year\": 1850}, {\"age\": 25, \"people\": 799482, \"sex\": 2, \"year\": 1850}, {\"age\": 30, \"people\": 730638, \"sex\": 1, \"year\": 1850}, {\"age\": 30, \"people\": 639636, \"sex\": 2, \"year\": 1850}, {\"age\": 35, \"people\": 588487, \"sex\": 1, \"year\": 1850}, {\"age\": 35, \"people\": 505012, \"sex\": 2, \"year\": 1850}, {\"age\": 40, \"people\": 475911, \"sex\": 1, \"year\": 1850}, {\"age\": 40, \"people\": 428185, \"sex\": 2, \"year\": 1850}, {\"age\": 45, \"people\": 384211, \"sex\": 1, \"year\": 1850}, {\"age\": 45, \"people\": 341254, \"sex\": 2, \"year\": 1850}, {\"age\": 50, \"people\": 321343, \"sex\": 1, \"year\": 1850}, {\"age\": 50, \"people\": 286580, \"sex\": 2, \"year\": 1850}, {\"age\": 55, \"people\": 194080, \"sex\": 1, \"year\": 1850}, {\"age\": 55, \"people\": 187208, \"sex\": 2, \"year\": 1850}, {\"age\": 60, \"people\": 174976, \"sex\": 1, \"year\": 1850}, {\"age\": 60, \"people\": 162236, \"sex\": 2, \"year\": 1850}, {\"age\": 65, \"people\": 106827, \"sex\": 1, \"year\": 1850}, {\"age\": 65, \"people\": 105534, \"sex\": 2, \"year\": 1850}, {\"age\": 70, \"people\": 73677, \"sex\": 1, \"year\": 1850}, {\"age\": 70, \"people\": 71762, \"sex\": 2, \"year\": 1850}, {\"age\": 75, \"people\": 40834, \"sex\": 1, \"year\": 1850}, {\"age\": 75, \"people\": 40229, \"sex\": 2, \"year\": 1850}, {\"age\": 80, \"people\": 23449, \"sex\": 1, \"year\": 1850}, {\"age\": 80, \"people\": 22949, \"sex\": 2, \"year\": 1850}, {\"age\": 85, \"people\": 8186, \"sex\": 1, \"year\": 1850}, {\"age\": 85, \"people\": 10511, \"sex\": 2, \"year\": 1850}, {\"age\": 90, \"people\": 5259, \"sex\": 1, \"year\": 1850}, {\"age\": 90, \"people\": 6569, \"sex\": 2, \"year\": 1850}, {\"age\": 0, \"people\": 2120846, \"sex\": 1, \"year\": 1860}, {\"age\": 0, \"people\": 2092162, \"sex\": 2, \"year\": 1860}, {\"age\": 5, \"people\": 1804467, \"sex\": 1, \"year\": 1860}, {\"age\": 5, \"people\": 1778772, \"sex\": 2, \"year\": 1860}, {\"age\": 10, \"people\": 1612640, \"sex\": 1, \"year\": 1860}, {\"age\": 10, \"people\": 1540350, \"sex\": 2, \"year\": 1860}, {\"age\": 15, \"people\": 1438094, \"sex\": 1, \"year\": 1860}, {\"age\": 15, \"people\": 1495999, \"sex\": 2, \"year\": 1860}, {\"age\": 20, \"people\": 1351121, \"sex\": 1, \"year\": 1860}, {\"age\": 20, \"people\": 1370462, \"sex\": 2, \"year\": 1860}, {\"age\": 25, \"people\": 1217615, \"sex\": 1, \"year\": 1860}, {\"age\": 25, \"people\": 1116373, \"sex\": 2, \"year\": 1860}, {\"age\": 30, \"people\": 1043174, \"sex\": 1, \"year\": 1860}, {\"age\": 30, \"people\": 936055, \"sex\": 2, \"year\": 1860}, {\"age\": 35, \"people\": 866910, \"sex\": 1, \"year\": 1860}, {\"age\": 35, \"people\": 737136, \"sex\": 2, \"year\": 1860}, {\"age\": 40, \"people\": 699434, \"sex\": 1, \"year\": 1860}, {\"age\": 40, \"people\": 616826, \"sex\": 2, \"year\": 1860}, {\"age\": 45, \"people\": 552404, \"sex\": 1, \"year\": 1860}, {\"age\": 45, \"people\": 461739, \"sex\": 2, \"year\": 1860}, {\"age\": 50, \"people\": 456176, \"sex\": 1, \"year\": 1860}, {\"age\": 50, \"people\": 407305, \"sex\": 2, \"year\": 1860}, {\"age\": 55, \"people\": 292417, \"sex\": 1, \"year\": 1860}, {\"age\": 55, \"people\": 267224, \"sex\": 2, \"year\": 1860}, {\"age\": 60, \"people\": 260887, \"sex\": 1, \"year\": 1860}, {\"age\": 60, \"people\": 249735, \"sex\": 2, \"year\": 1860}, {\"age\": 65, \"people\": 149331, \"sex\": 1, \"year\": 1860}, {\"age\": 65, \"people\": 141405, \"sex\": 2, \"year\": 1860}, {\"age\": 70, \"people\": 98465, \"sex\": 1, \"year\": 1860}, {\"age\": 70, \"people\": 101778, \"sex\": 2, \"year\": 1860}, {\"age\": 75, \"people\": 56699, \"sex\": 1, \"year\": 1860}, {\"age\": 75, \"people\": 57597, \"sex\": 2, \"year\": 1860}, {\"age\": 80, \"people\": 29007, \"sex\": 1, \"year\": 1860}, {\"age\": 80, \"people\": 29506, \"sex\": 2, \"year\": 1860}, {\"age\": 85, \"people\": 10434, \"sex\": 1, \"year\": 1860}, {\"age\": 85, \"people\": 14053, \"sex\": 2, \"year\": 1860}, {\"age\": 90, \"people\": 7232, \"sex\": 1, \"year\": 1860}, {\"age\": 90, \"people\": 6622, \"sex\": 2, \"year\": 1860}, {\"age\": 0, \"people\": 2800083, \"sex\": 1, \"year\": 1870}, {\"age\": 0, \"people\": 2717102, \"sex\": 2, \"year\": 1870}, {\"age\": 5, \"people\": 2428469, \"sex\": 1, \"year\": 1870}, {\"age\": 5, \"people\": 2393680, \"sex\": 2, \"year\": 1870}, {\"age\": 10, \"people\": 2427341, \"sex\": 1, \"year\": 1870}, {\"age\": 10, \"people\": 2342670, \"sex\": 2, \"year\": 1870}, {\"age\": 15, \"people\": 1958390, \"sex\": 1, \"year\": 1870}, {\"age\": 15, \"people\": 2077248, \"sex\": 2, \"year\": 1870}, {\"age\": 20, \"people\": 1805303, \"sex\": 1, \"year\": 1870}, {\"age\": 20, \"people\": 1909382, \"sex\": 2, \"year\": 1870}, {\"age\": 25, \"people\": 1509059, \"sex\": 1, \"year\": 1870}, {\"age\": 25, \"people\": 1574285, \"sex\": 2, \"year\": 1870}, {\"age\": 30, \"people\": 1251534, \"sex\": 1, \"year\": 1870}, {\"age\": 30, \"people\": 1275629, \"sex\": 2, \"year\": 1870}, {\"age\": 35, \"people\": 1185336, \"sex\": 1, \"year\": 1870}, {\"age\": 35, \"people\": 1137490, \"sex\": 2, \"year\": 1870}, {\"age\": 40, \"people\": 968861, \"sex\": 1, \"year\": 1870}, {\"age\": 40, \"people\": 944401, \"sex\": 2, \"year\": 1870}, {\"age\": 45, \"people\": 852672, \"sex\": 1, \"year\": 1870}, {\"age\": 45, \"people\": 747916, \"sex\": 2, \"year\": 1870}, {\"age\": 50, \"people\": 736387, \"sex\": 1, \"year\": 1870}, {\"age\": 50, \"people\": 637801, \"sex\": 2, \"year\": 1870}, {\"age\": 55, \"people\": 486036, \"sex\": 1, \"year\": 1870}, {\"age\": 55, \"people\": 407819, \"sex\": 2, \"year\": 1870}, {\"age\": 60, \"people\": 399264, \"sex\": 1, \"year\": 1870}, {\"age\": 60, \"people\": 374801, \"sex\": 2, \"year\": 1870}, {\"age\": 65, \"people\": 260829, \"sex\": 1, \"year\": 1870}, {\"age\": 65, \"people\": 239080, \"sex\": 2, \"year\": 1870}, {\"age\": 70, \"people\": 173364, \"sex\": 1, \"year\": 1870}, {\"age\": 70, \"people\": 165501, \"sex\": 2, \"year\": 1870}, {\"age\": 75, \"people\": 86929, \"sex\": 1, \"year\": 1870}, {\"age\": 75, \"people\": 89540, \"sex\": 2, \"year\": 1870}, {\"age\": 80, \"people\": 47427, \"sex\": 1, \"year\": 1870}, {\"age\": 80, \"people\": 54190, \"sex\": 2, \"year\": 1870}, {\"age\": 85, \"people\": 15891, \"sex\": 1, \"year\": 1870}, {\"age\": 85, \"people\": 19302, \"sex\": 2, \"year\": 1870}, {\"age\": 90, \"people\": 8649, \"sex\": 1, \"year\": 1870}, {\"age\": 90, \"people\": 13068, \"sex\": 2, \"year\": 1870}, {\"age\": 0, \"people\": 3533662, \"sex\": 1, \"year\": 1880}, {\"age\": 0, \"people\": 3421597, \"sex\": 2, \"year\": 1880}, {\"age\": 5, \"people\": 3297503, \"sex\": 1, \"year\": 1880}, {\"age\": 5, \"people\": 3179142, \"sex\": 2, \"year\": 1880}, {\"age\": 10, \"people\": 2911924, \"sex\": 1, \"year\": 1880}, {\"age\": 10, \"people\": 2813550, \"sex\": 2, \"year\": 1880}, {\"age\": 15, \"people\": 2457734, \"sex\": 1, \"year\": 1880}, {\"age\": 15, \"people\": 2527818, \"sex\": 2, \"year\": 1880}, {\"age\": 20, \"people\": 2547780, \"sex\": 1, \"year\": 1880}, {\"age\": 20, \"people\": 2512803, \"sex\": 2, \"year\": 1880}, {\"age\": 25, \"people\": 2119393, \"sex\": 1, \"year\": 1880}, {\"age\": 25, \"people\": 1974241, \"sex\": 2, \"year\": 1880}, {\"age\": 30, \"people\": 1749107, \"sex\": 1, \"year\": 1880}, {\"age\": 30, \"people\": 1596772, \"sex\": 2, \"year\": 1880}, {\"age\": 35, \"people\": 1540772, \"sex\": 1, \"year\": 1880}, {\"age\": 35, \"people\": 1483717, \"sex\": 2, \"year\": 1880}, {\"age\": 40, \"people\": 1237347, \"sex\": 1, \"year\": 1880}, {\"age\": 40, \"people\": 1239435, \"sex\": 2, \"year\": 1880}, {\"age\": 45, \"people\": 1065973, \"sex\": 1, \"year\": 1880}, {\"age\": 45, \"people\": 1003711, \"sex\": 2, \"year\": 1880}, {\"age\": 50, \"people\": 964484, \"sex\": 1, \"year\": 1880}, {\"age\": 50, \"people\": 863012, \"sex\": 2, \"year\": 1880}, {\"age\": 55, \"people\": 679147, \"sex\": 1, \"year\": 1880}, {\"age\": 55, \"people\": 594843, \"sex\": 2, \"year\": 1880}, {\"age\": 60, \"people\": 580298, \"sex\": 1, \"year\": 1880}, {\"age\": 60, \"people\": 526956, \"sex\": 2, \"year\": 1880}, {\"age\": 65, \"people\": 369398, \"sex\": 1, \"year\": 1880}, {\"age\": 65, \"people\": 346303, \"sex\": 2, \"year\": 1880}, {\"age\": 70, \"people\": 255422, \"sex\": 1, \"year\": 1880}, {\"age\": 70, \"people\": 251860, \"sex\": 2, \"year\": 1880}, {\"age\": 75, \"people\": 141628, \"sex\": 1, \"year\": 1880}, {\"age\": 75, \"people\": 143513, \"sex\": 2, \"year\": 1880}, {\"age\": 80, \"people\": 67526, \"sex\": 1, \"year\": 1880}, {\"age\": 80, \"people\": 77290, \"sex\": 2, \"year\": 1880}, {\"age\": 85, \"people\": 22437, \"sex\": 1, \"year\": 1880}, {\"age\": 85, \"people\": 31227, \"sex\": 2, \"year\": 1880}, {\"age\": 90, \"people\": 10272, \"sex\": 1, \"year\": 1880}, {\"age\": 90, \"people\": 15451, \"sex\": 2, \"year\": 1880}, {\"age\": 0, \"people\": 4619544, \"sex\": 1, \"year\": 1900}, {\"age\": 0, \"people\": 4589196, \"sex\": 2, \"year\": 1900}, {\"age\": 5, \"people\": 4465783, \"sex\": 1, \"year\": 1900}, {\"age\": 5, \"people\": 4390483, \"sex\": 2, \"year\": 1900}, {\"age\": 10, \"people\": 4057669, \"sex\": 1, \"year\": 1900}, {\"age\": 10, \"people\": 4001749, \"sex\": 2, \"year\": 1900}, {\"age\": 15, \"people\": 3774846, \"sex\": 1, \"year\": 1900}, {\"age\": 15, \"people\": 3801743, \"sex\": 2, \"year\": 1900}, {\"age\": 20, \"people\": 3694038, \"sex\": 1, \"year\": 1900}, {\"age\": 20, \"people\": 3751061, \"sex\": 2, \"year\": 1900}, {\"age\": 25, \"people\": 3389280, \"sex\": 1, \"year\": 1900}, {\"age\": 25, \"people\": 3236056, \"sex\": 2, \"year\": 1900}, {\"age\": 30, \"people\": 2918964, \"sex\": 1, \"year\": 1900}, {\"age\": 30, \"people\": 2665174, \"sex\": 2, \"year\": 1900}, {\"age\": 35, \"people\": 2633883, \"sex\": 1, \"year\": 1900}, {\"age\": 35, \"people\": 2347737, \"sex\": 2, \"year\": 1900}, {\"age\": 40, \"people\": 2261070, \"sex\": 1, \"year\": 1900}, {\"age\": 40, \"people\": 2004987, \"sex\": 2, \"year\": 1900}, {\"age\": 45, \"people\": 1868413, \"sex\": 1, \"year\": 1900}, {\"age\": 45, \"people\": 1648025, \"sex\": 2, \"year\": 1900}, {\"age\": 50, \"people\": 1571038, \"sex\": 1, \"year\": 1900}, {\"age\": 50, \"people\": 1411981, \"sex\": 2, \"year\": 1900}, {\"age\": 55, \"people\": 1161908, \"sex\": 1, \"year\": 1900}, {\"age\": 55, \"people\": 1064632, \"sex\": 2, \"year\": 1900}, {\"age\": 60, \"people\": 916571, \"sex\": 1, \"year\": 1900}, {\"age\": 60, \"people\": 887508, \"sex\": 2, \"year\": 1900}, {\"age\": 65, \"people\": 672663, \"sex\": 1, \"year\": 1900}, {\"age\": 65, \"people\": 640212, \"sex\": 2, \"year\": 1900}, {\"age\": 70, \"people\": 454747, \"sex\": 1, \"year\": 1900}, {\"age\": 70, \"people\": 440007, \"sex\": 2, \"year\": 1900}, {\"age\": 75, \"people\": 268211, \"sex\": 1, \"year\": 1900}, {\"age\": 75, \"people\": 265879, \"sex\": 2, \"year\": 1900}, {\"age\": 80, \"people\": 127435, \"sex\": 1, \"year\": 1900}, {\"age\": 80, \"people\": 132449, \"sex\": 2, \"year\": 1900}, {\"age\": 85, \"people\": 44008, \"sex\": 1, \"year\": 1900}, {\"age\": 85, \"people\": 48614, \"sex\": 2, \"year\": 1900}, {\"age\": 90, \"people\": 15164, \"sex\": 1, \"year\": 1900}, {\"age\": 90, \"people\": 20093, \"sex\": 2, \"year\": 1900}, {\"age\": 0, \"people\": 5296823, \"sex\": 1, \"year\": 1910}, {\"age\": 0, \"people\": 5287477, \"sex\": 2, \"year\": 1910}, {\"age\": 5, \"people\": 4991803, \"sex\": 1, \"year\": 1910}, {\"age\": 5, \"people\": 4866139, \"sex\": 2, \"year\": 1910}, {\"age\": 10, \"people\": 4650747, \"sex\": 1, \"year\": 1910}, {\"age\": 10, \"people\": 4471887, \"sex\": 2, \"year\": 1910}, {\"age\": 15, \"people\": 4566154, \"sex\": 1, \"year\": 1910}, {\"age\": 15, \"people\": 4592269, \"sex\": 2, \"year\": 1910}, {\"age\": 20, \"people\": 4637632, \"sex\": 1, \"year\": 1910}, {\"age\": 20, \"people\": 4447683, \"sex\": 2, \"year\": 1910}, {\"age\": 25, \"people\": 4257755, \"sex\": 1, \"year\": 1910}, {\"age\": 25, \"people\": 3946153, \"sex\": 2, \"year\": 1910}, {\"age\": 30, \"people\": 3658125, \"sex\": 1, \"year\": 1910}, {\"age\": 30, \"people\": 3295220, \"sex\": 2, \"year\": 1910}, {\"age\": 35, \"people\": 3427518, \"sex\": 1, \"year\": 1910}, {\"age\": 35, \"people\": 3088990, \"sex\": 2, \"year\": 1910}, {\"age\": 40, \"people\": 2860229, \"sex\": 1, \"year\": 1910}, {\"age\": 40, \"people\": 2471267, \"sex\": 2, \"year\": 1910}, {\"age\": 45, \"people\": 2363801, \"sex\": 1, \"year\": 1910}, {\"age\": 45, \"people\": 2114930, \"sex\": 2, \"year\": 1910}, {\"age\": 50, \"people\": 2126516, \"sex\": 1, \"year\": 1910}, {\"age\": 50, \"people\": 1773592, \"sex\": 2, \"year\": 1910}, {\"age\": 55, \"people\": 1508358, \"sex\": 1, \"year\": 1910}, {\"age\": 55, \"people\": 1317651, \"sex\": 2, \"year\": 1910}, {\"age\": 60, \"people\": 1189421, \"sex\": 1, \"year\": 1910}, {\"age\": 60, \"people\": 1090697, \"sex\": 2, \"year\": 1910}, {\"age\": 65, \"people\": 850159, \"sex\": 1, \"year\": 1910}, {\"age\": 65, \"people\": 813868, \"sex\": 2, \"year\": 1910}, {\"age\": 70, \"people\": 557936, \"sex\": 1, \"year\": 1910}, {\"age\": 70, \"people\": 547623, \"sex\": 2, \"year\": 1910}, {\"age\": 75, \"people\": 322679, \"sex\": 1, \"year\": 1910}, {\"age\": 75, \"people\": 350900, \"sex\": 2, \"year\": 1910}, {\"age\": 80, \"people\": 161715, \"sex\": 1, \"year\": 1910}, {\"age\": 80, \"people\": 174315, \"sex\": 2, \"year\": 1910}, {\"age\": 85, \"people\": 59699, \"sex\": 1, \"year\": 1910}, {\"age\": 85, \"people\": 62725, \"sex\": 2, \"year\": 1910}, {\"age\": 90, \"people\": 23929, \"sex\": 1, \"year\": 1910}, {\"age\": 90, \"people\": 28965, \"sex\": 2, \"year\": 1910}, {\"age\": 0, \"people\": 5934792, \"sex\": 1, \"year\": 1920}, {\"age\": 0, \"people\": 5694244, \"sex\": 2, \"year\": 1920}, {\"age\": 5, \"people\": 5789008, \"sex\": 1, \"year\": 1920}, {\"age\": 5, \"people\": 5693960, \"sex\": 2, \"year\": 1920}, {\"age\": 10, \"people\": 5401156, \"sex\": 1, \"year\": 1920}, {\"age\": 10, \"people\": 5293057, \"sex\": 2, \"year\": 1920}, {\"age\": 15, \"people\": 4724365, \"sex\": 1, \"year\": 1920}, {\"age\": 15, \"people\": 4779936, \"sex\": 2, \"year\": 1920}, {\"age\": 20, \"people\": 4549411, \"sex\": 1, \"year\": 1920}, {\"age\": 20, \"people\": 4742632, \"sex\": 2, \"year\": 1920}, {\"age\": 25, \"people\": 4565066, \"sex\": 1, \"year\": 1920}, {\"age\": 25, \"people\": 4529382, \"sex\": 2, \"year\": 1920}, {\"age\": 30, \"people\": 4110771, \"sex\": 1, \"year\": 1920}, {\"age\": 30, \"people\": 3982426, \"sex\": 2, \"year\": 1920}, {\"age\": 35, \"people\": 4081543, \"sex\": 1, \"year\": 1920}, {\"age\": 35, \"people\": 3713810, \"sex\": 2, \"year\": 1920}, {\"age\": 40, \"people\": 3321923, \"sex\": 1, \"year\": 1920}, {\"age\": 40, \"people\": 3059757, \"sex\": 2, \"year\": 1920}, {\"age\": 45, \"people\": 3143891, \"sex\": 1, \"year\": 1920}, {\"age\": 45, \"people\": 2669089, \"sex\": 2, \"year\": 1920}, {\"age\": 50, \"people\": 2546035, \"sex\": 1, \"year\": 1920}, {\"age\": 50, \"people\": 2200491, \"sex\": 2, \"year\": 1920}, {\"age\": 55, \"people\": 1880975, \"sex\": 1, \"year\": 1920}, {\"age\": 55, \"people\": 1674672, \"sex\": 2, \"year\": 1920}, {\"age\": 60, \"people\": 1587549, \"sex\": 1, \"year\": 1920}, {\"age\": 60, \"people\": 1382877, \"sex\": 2, \"year\": 1920}, {\"age\": 65, \"people\": 1095956, \"sex\": 1, \"year\": 1920}, {\"age\": 65, \"people\": 989901, \"sex\": 2, \"year\": 1920}, {\"age\": 70, \"people\": 714618, \"sex\": 1, \"year\": 1920}, {\"age\": 70, \"people\": 690097, \"sex\": 2, \"year\": 1920}, {\"age\": 75, \"people\": 417292, \"sex\": 1, \"year\": 1920}, {\"age\": 75, \"people\": 439465, \"sex\": 2, \"year\": 1920}, {\"age\": 80, \"people\": 187000, \"sex\": 1, \"year\": 1920}, {\"age\": 80, \"people\": 211110, \"sex\": 2, \"year\": 1920}, {\"age\": 85, \"people\": 75991, \"sex\": 1, \"year\": 1920}, {\"age\": 85, \"people\": 92829, \"sex\": 2, \"year\": 1920}, {\"age\": 90, \"people\": 22398, \"sex\": 1, \"year\": 1920}, {\"age\": 90, \"people\": 32085, \"sex\": 2, \"year\": 1920}, {\"age\": 0, \"people\": 5875250, \"sex\": 1, \"year\": 1930}, {\"age\": 0, \"people\": 5662530, \"sex\": 2, \"year\": 1930}, {\"age\": 5, \"people\": 6542592, \"sex\": 1, \"year\": 1930}, {\"age\": 5, \"people\": 6129561, \"sex\": 2, \"year\": 1930}, {\"age\": 10, \"people\": 6064820, \"sex\": 1, \"year\": 1930}, {\"age\": 10, \"people\": 5986529, \"sex\": 2, \"year\": 1930}, {\"age\": 15, \"people\": 5709452, \"sex\": 1, \"year\": 1930}, {\"age\": 15, \"people\": 5769587, \"sex\": 2, \"year\": 1930}, {\"age\": 20, \"people\": 5305992, \"sex\": 1, \"year\": 1930}, {\"age\": 20, \"people\": 5565382, \"sex\": 2, \"year\": 1930}, {\"age\": 25, \"people\": 4929853, \"sex\": 1, \"year\": 1930}, {\"age\": 25, \"people\": 5050229, \"sex\": 2, \"year\": 1930}, {\"age\": 30, \"people\": 4424408, \"sex\": 1, \"year\": 1930}, {\"age\": 30, \"people\": 4455213, \"sex\": 2, \"year\": 1930}, {\"age\": 35, \"people\": 4576531, \"sex\": 1, \"year\": 1930}, {\"age\": 35, \"people\": 4593776, \"sex\": 2, \"year\": 1930}, {\"age\": 40, \"people\": 4075139, \"sex\": 1, \"year\": 1930}, {\"age\": 40, \"people\": 3754022, \"sex\": 2, \"year\": 1930}, {\"age\": 45, \"people\": 3633152, \"sex\": 1, \"year\": 1930}, {\"age\": 45, \"people\": 3396558, \"sex\": 2, \"year\": 1930}, {\"age\": 50, \"people\": 3128108, \"sex\": 1, \"year\": 1930}, {\"age\": 50, \"people\": 2809191, \"sex\": 2, \"year\": 1930}, {\"age\": 55, \"people\": 2434077, \"sex\": 1, \"year\": 1930}, {\"age\": 55, \"people\": 2298614, \"sex\": 2, \"year\": 1930}, {\"age\": 60, \"people\": 1927564, \"sex\": 1, \"year\": 1930}, {\"age\": 60, \"people\": 1783515, \"sex\": 2, \"year\": 1930}, {\"age\": 65, \"people\": 1397275, \"sex\": 1, \"year\": 1930}, {\"age\": 65, \"people\": 1307312, \"sex\": 2, \"year\": 1930}, {\"age\": 70, \"people\": 919045, \"sex\": 1, \"year\": 1930}, {\"age\": 70, \"people\": 918509, \"sex\": 2, \"year\": 1930}, {\"age\": 75, \"people\": 536375, \"sex\": 1, \"year\": 1930}, {\"age\": 75, \"people\": 522716, \"sex\": 2, \"year\": 1930}, {\"age\": 80, \"people\": 246708, \"sex\": 1, \"year\": 1930}, {\"age\": 80, \"people\": 283579, \"sex\": 2, \"year\": 1930}, {\"age\": 85, \"people\": 88978, \"sex\": 1, \"year\": 1930}, {\"age\": 85, \"people\": 109210, \"sex\": 2, \"year\": 1930}, {\"age\": 90, \"people\": 30338, \"sex\": 1, \"year\": 1930}, {\"age\": 90, \"people\": 43483, \"sex\": 2, \"year\": 1930}, {\"age\": 0, \"people\": 5294628, \"sex\": 1, \"year\": 1940}, {\"age\": 0, \"people\": 5124653, \"sex\": 2, \"year\": 1940}, {\"age\": 5, \"people\": 5468378, \"sex\": 1, \"year\": 1940}, {\"age\": 5, \"people\": 5359099, \"sex\": 2, \"year\": 1940}, {\"age\": 10, \"people\": 5960416, \"sex\": 1, \"year\": 1940}, {\"age\": 10, \"people\": 5868532, \"sex\": 2, \"year\": 1940}, {\"age\": 15, \"people\": 6165109, \"sex\": 1, \"year\": 1940}, {\"age\": 15, \"people\": 6193701, \"sex\": 2, \"year\": 1940}, {\"age\": 20, \"people\": 5682414, \"sex\": 1, \"year\": 1940}, {\"age\": 20, \"people\": 5896002, \"sex\": 2, \"year\": 1940}, {\"age\": 25, \"people\": 5438166, \"sex\": 1, \"year\": 1940}, {\"age\": 25, \"people\": 5664244, \"sex\": 2, \"year\": 1940}, {\"age\": 30, \"people\": 5040048, \"sex\": 1, \"year\": 1940}, {\"age\": 30, \"people\": 5171522, \"sex\": 2, \"year\": 1940}, {\"age\": 35, \"people\": 4724804, \"sex\": 1, \"year\": 1940}, {\"age\": 35, \"people\": 4791809, \"sex\": 2, \"year\": 1940}, {\"age\": 40, \"people\": 4437392, \"sex\": 1, \"year\": 1940}, {\"age\": 40, \"people\": 4394061, \"sex\": 2, \"year\": 1940}, {\"age\": 45, \"people\": 4190187, \"sex\": 1, \"year\": 1940}, {\"age\": 45, \"people\": 4050290, \"sex\": 2, \"year\": 1940}, {\"age\": 50, \"people\": 3785735, \"sex\": 1, \"year\": 1940}, {\"age\": 50, \"people\": 3488396, \"sex\": 2, \"year\": 1940}, {\"age\": 55, \"people\": 2972069, \"sex\": 1, \"year\": 1940}, {\"age\": 55, \"people\": 2810000, \"sex\": 2, \"year\": 1940}, {\"age\": 60, \"people\": 2370232, \"sex\": 1, \"year\": 1940}, {\"age\": 60, \"people\": 2317790, \"sex\": 2, \"year\": 1940}, {\"age\": 65, \"people\": 1897678, \"sex\": 1, \"year\": 1940}, {\"age\": 65, \"people\": 1911117, \"sex\": 2, \"year\": 1940}, {\"age\": 70, \"people\": 1280023, \"sex\": 1, \"year\": 1940}, {\"age\": 70, \"people\": 1287711, \"sex\": 2, \"year\": 1940}, {\"age\": 75, \"people\": 713875, \"sex\": 1, \"year\": 1940}, {\"age\": 75, \"people\": 764915, \"sex\": 2, \"year\": 1940}, {\"age\": 80, \"people\": 359418, \"sex\": 1, \"year\": 1940}, {\"age\": 80, \"people\": 414761, \"sex\": 2, \"year\": 1940}, {\"age\": 85, \"people\": 127303, \"sex\": 1, \"year\": 1940}, {\"age\": 85, \"people\": 152131, \"sex\": 2, \"year\": 1940}, {\"age\": 90, \"people\": 42263, \"sex\": 1, \"year\": 1940}, {\"age\": 90, \"people\": 58119, \"sex\": 2, \"year\": 1940}, {\"age\": 0, \"people\": 8211806, \"sex\": 1, \"year\": 1950}, {\"age\": 0, \"people\": 7862267, \"sex\": 2, \"year\": 1950}, {\"age\": 5, \"people\": 6706601, \"sex\": 1, \"year\": 1950}, {\"age\": 5, \"people\": 6450863, \"sex\": 2, \"year\": 1950}, {\"age\": 10, \"people\": 5629744, \"sex\": 1, \"year\": 1950}, {\"age\": 10, \"people\": 5430835, \"sex\": 2, \"year\": 1950}, {\"age\": 15, \"people\": 5264129, \"sex\": 1, \"year\": 1950}, {\"age\": 15, \"people\": 5288742, \"sex\": 2, \"year\": 1950}, {\"age\": 20, \"people\": 5573308, \"sex\": 1, \"year\": 1950}, {\"age\": 20, \"people\": 5854227, \"sex\": 2, \"year\": 1950}, {\"age\": 25, \"people\": 6007254, \"sex\": 1, \"year\": 1950}, {\"age\": 25, \"people\": 6317332, \"sex\": 2, \"year\": 1950}, {\"age\": 30, \"people\": 5676022, \"sex\": 1, \"year\": 1950}, {\"age\": 30, \"people\": 5895178, \"sex\": 2, \"year\": 1950}, {\"age\": 35, \"people\": 5511364, \"sex\": 1, \"year\": 1950}, {\"age\": 35, \"people\": 5696261, \"sex\": 2, \"year\": 1950}, {\"age\": 40, \"people\": 5076985, \"sex\": 1, \"year\": 1950}, {\"age\": 40, \"people\": 5199224, \"sex\": 2, \"year\": 1950}, {\"age\": 45, \"people\": 4533177, \"sex\": 1, \"year\": 1950}, {\"age\": 45, \"people\": 4595842, \"sex\": 2, \"year\": 1950}, {\"age\": 50, \"people\": 4199164, \"sex\": 1, \"year\": 1950}, {\"age\": 50, \"people\": 4147295, \"sex\": 2, \"year\": 1950}, {\"age\": 55, \"people\": 3667351, \"sex\": 1, \"year\": 1950}, {\"age\": 55, \"people\": 3595158, \"sex\": 2, \"year\": 1950}, {\"age\": 60, \"people\": 3035038, \"sex\": 1, \"year\": 1950}, {\"age\": 60, \"people\": 3009768, \"sex\": 2, \"year\": 1950}, {\"age\": 65, \"people\": 2421234, \"sex\": 1, \"year\": 1950}, {\"age\": 65, \"people\": 2548250, \"sex\": 2, \"year\": 1950}, {\"age\": 70, \"people\": 1627920, \"sex\": 1, \"year\": 1950}, {\"age\": 70, \"people\": 1786831, \"sex\": 2, \"year\": 1950}, {\"age\": 75, \"people\": 1006530, \"sex\": 1, \"year\": 1950}, {\"age\": 75, \"people\": 1148469, \"sex\": 2, \"year\": 1950}, {\"age\": 80, \"people\": 511727, \"sex\": 1, \"year\": 1950}, {\"age\": 80, \"people\": 637717, \"sex\": 2, \"year\": 1950}, {\"age\": 85, \"people\": 182821, \"sex\": 1, \"year\": 1950}, {\"age\": 85, \"people\": 242798, \"sex\": 2, \"year\": 1950}, {\"age\": 90, \"people\": 54836, \"sex\": 1, \"year\": 1950}, {\"age\": 90, \"people\": 90766, \"sex\": 2, \"year\": 1950}, {\"age\": 0, \"people\": 10374975, \"sex\": 1, \"year\": 1960}, {\"age\": 0, \"people\": 10146999, \"sex\": 2, \"year\": 1960}, {\"age\": 5, \"people\": 9495503, \"sex\": 1, \"year\": 1960}, {\"age\": 5, \"people\": 9250741, \"sex\": 2, \"year\": 1960}, {\"age\": 10, \"people\": 8563700, \"sex\": 1, \"year\": 1960}, {\"age\": 10, \"people\": 8310764, \"sex\": 2, \"year\": 1960}, {\"age\": 15, \"people\": 6620902, \"sex\": 1, \"year\": 1960}, {\"age\": 15, \"people\": 6617493, \"sex\": 2, \"year\": 1960}, {\"age\": 20, \"people\": 5268384, \"sex\": 1, \"year\": 1960}, {\"age\": 20, \"people\": 5513495, \"sex\": 2, \"year\": 1960}, {\"age\": 25, \"people\": 5311805, \"sex\": 1, \"year\": 1960}, {\"age\": 25, \"people\": 5548259, \"sex\": 2, \"year\": 1960}, {\"age\": 30, \"people\": 5801342, \"sex\": 1, \"year\": 1960}, {\"age\": 30, \"people\": 6090862, \"sex\": 2, \"year\": 1960}, {\"age\": 35, \"people\": 6063063, \"sex\": 1, \"year\": 1960}, {\"age\": 35, \"people\": 6431337, \"sex\": 2, \"year\": 1960}, {\"age\": 40, \"people\": 5657943, \"sex\": 1, \"year\": 1960}, {\"age\": 40, \"people\": 5940520, \"sex\": 2, \"year\": 1960}, {\"age\": 45, \"people\": 5345658, \"sex\": 1, \"year\": 1960}, {\"age\": 45, \"people\": 5516028, \"sex\": 2, \"year\": 1960}, {\"age\": 50, \"people\": 4763364, \"sex\": 1, \"year\": 1960}, {\"age\": 50, \"people\": 4928844, \"sex\": 2, \"year\": 1960}, {\"age\": 55, \"people\": 4170581, \"sex\": 1, \"year\": 1960}, {\"age\": 55, \"people\": 4402878, \"sex\": 2, \"year\": 1960}, {\"age\": 60, \"people\": 3405293, \"sex\": 1, \"year\": 1960}, {\"age\": 60, \"people\": 3723839, \"sex\": 2, \"year\": 1960}, {\"age\": 65, \"people\": 2859371, \"sex\": 1, \"year\": 1960}, {\"age\": 65, \"people\": 3268699, \"sex\": 2, \"year\": 1960}, {\"age\": 70, \"people\": 2115763, \"sex\": 1, \"year\": 1960}, {\"age\": 70, \"people\": 2516479, \"sex\": 2, \"year\": 1960}, {\"age\": 75, \"people\": 1308913, \"sex\": 1, \"year\": 1960}, {\"age\": 75, \"people\": 1641371, \"sex\": 2, \"year\": 1960}, {\"age\": 80, \"people\": 619923, \"sex\": 1, \"year\": 1960}, {\"age\": 80, \"people\": 856952, \"sex\": 2, \"year\": 1960}, {\"age\": 85, \"people\": 253245, \"sex\": 1, \"year\": 1960}, {\"age\": 85, \"people\": 384572, \"sex\": 2, \"year\": 1960}, {\"age\": 90, \"people\": 75908, \"sex\": 1, \"year\": 1960}, {\"age\": 90, \"people\": 135774, \"sex\": 2, \"year\": 1960}, {\"age\": 0, \"people\": 8685121, \"sex\": 1, \"year\": 1970}, {\"age\": 0, \"people\": 8326887, \"sex\": 2, \"year\": 1970}, {\"age\": 5, \"people\": 10411131, \"sex\": 1, \"year\": 1970}, {\"age\": 5, \"people\": 10003293, \"sex\": 2, \"year\": 1970}, {\"age\": 10, \"people\": 10756403, \"sex\": 1, \"year\": 1970}, {\"age\": 10, \"people\": 10343538, \"sex\": 2, \"year\": 1970}, {\"age\": 15, \"people\": 9605399, \"sex\": 1, \"year\": 1970}, {\"age\": 15, \"people\": 9414284, \"sex\": 2, \"year\": 1970}, {\"age\": 20, \"people\": 7729202, \"sex\": 1, \"year\": 1970}, {\"age\": 20, \"people\": 8341830, \"sex\": 2, \"year\": 1970}, {\"age\": 25, \"people\": 6539301, \"sex\": 1, \"year\": 1970}, {\"age\": 25, \"people\": 6903041, \"sex\": 2, \"year\": 1970}, {\"age\": 30, \"people\": 5519879, \"sex\": 1, \"year\": 1970}, {\"age\": 30, \"people\": 5851441, \"sex\": 2, \"year\": 1970}, {\"age\": 35, \"people\": 5396732, \"sex\": 1, \"year\": 1970}, {\"age\": 35, \"people\": 5708021, \"sex\": 2, \"year\": 1970}, {\"age\": 40, \"people\": 5718538, \"sex\": 1, \"year\": 1970}, {\"age\": 40, \"people\": 6129319, \"sex\": 2, \"year\": 1970}, {\"age\": 45, \"people\": 5794120, \"sex\": 1, \"year\": 1970}, {\"age\": 45, \"people\": 6198742, \"sex\": 2, \"year\": 1970}, {\"age\": 50, \"people\": 5298312, \"sex\": 1, \"year\": 1970}, {\"age\": 50, \"people\": 5783817, \"sex\": 2, \"year\": 1970}, {\"age\": 55, \"people\": 4762911, \"sex\": 1, \"year\": 1970}, {\"age\": 55, \"people\": 5222164, \"sex\": 2, \"year\": 1970}, {\"age\": 60, \"people\": 4037643, \"sex\": 1, \"year\": 1970}, {\"age\": 60, \"people\": 4577251, \"sex\": 2, \"year\": 1970}, {\"age\": 65, \"people\": 3142606, \"sex\": 1, \"year\": 1970}, {\"age\": 65, \"people\": 3894827, \"sex\": 2, \"year\": 1970}, {\"age\": 70, \"people\": 2340826, \"sex\": 1, \"year\": 1970}, {\"age\": 70, \"people\": 3138009, \"sex\": 2, \"year\": 1970}, {\"age\": 75, \"people\": 1599269, \"sex\": 1, \"year\": 1970}, {\"age\": 75, \"people\": 2293376, \"sex\": 2, \"year\": 1970}, {\"age\": 80, \"people\": 886155, \"sex\": 1, \"year\": 1970}, {\"age\": 80, \"people\": 1417553, \"sex\": 2, \"year\": 1970}, {\"age\": 85, \"people\": 371123, \"sex\": 1, \"year\": 1970}, {\"age\": 85, \"people\": 658511, \"sex\": 2, \"year\": 1970}, {\"age\": 90, \"people\": 186502, \"sex\": 1, \"year\": 1970}, {\"age\": 90, \"people\": 314929, \"sex\": 2, \"year\": 1970}, {\"age\": 0, \"people\": 8439366, \"sex\": 1, \"year\": 1980}, {\"age\": 0, \"people\": 8081854, \"sex\": 2, \"year\": 1980}, {\"age\": 5, \"people\": 8680730, \"sex\": 1, \"year\": 1980}, {\"age\": 5, \"people\": 8275881, \"sex\": 2, \"year\": 1980}, {\"age\": 10, \"people\": 9452338, \"sex\": 1, \"year\": 1980}, {\"age\": 10, \"people\": 9048483, \"sex\": 2, \"year\": 1980}, {\"age\": 15, \"people\": 10698856, \"sex\": 1, \"year\": 1980}, {\"age\": 15, \"people\": 10410271, \"sex\": 2, \"year\": 1980}, {\"age\": 20, \"people\": 10486776, \"sex\": 1, \"year\": 1980}, {\"age\": 20, \"people\": 10614947, \"sex\": 2, \"year\": 1980}, {\"age\": 25, \"people\": 9624053, \"sex\": 1, \"year\": 1980}, {\"age\": 25, \"people\": 9827903, \"sex\": 2, \"year\": 1980}, {\"age\": 30, \"people\": 8705835, \"sex\": 1, \"year\": 1980}, {\"age\": 30, \"people\": 8955225, \"sex\": 2, \"year\": 1980}, {\"age\": 35, \"people\": 6852069, \"sex\": 1, \"year\": 1980}, {\"age\": 35, \"people\": 7134239, \"sex\": 2, \"year\": 1980}, {\"age\": 40, \"people\": 5692148, \"sex\": 1, \"year\": 1980}, {\"age\": 40, \"people\": 5953910, \"sex\": 2, \"year\": 1980}, {\"age\": 45, \"people\": 5342469, \"sex\": 1, \"year\": 1980}, {\"age\": 45, \"people\": 5697543, \"sex\": 2, \"year\": 1980}, {\"age\": 50, \"people\": 5603709, \"sex\": 1, \"year\": 1980}, {\"age\": 50, \"people\": 6110117, \"sex\": 2, \"year\": 1980}, {\"age\": 55, \"people\": 5485098, \"sex\": 1, \"year\": 1980}, {\"age\": 55, \"people\": 6160229, \"sex\": 2, \"year\": 1980}, {\"age\": 60, \"people\": 4696140, \"sex\": 1, \"year\": 1980}, {\"age\": 60, \"people\": 5456885, \"sex\": 2, \"year\": 1980}, {\"age\": 65, \"people\": 3893510, \"sex\": 1, \"year\": 1980}, {\"age\": 65, \"people\": 4896947, \"sex\": 2, \"year\": 1980}, {\"age\": 70, \"people\": 2857774, \"sex\": 1, \"year\": 1980}, {\"age\": 70, \"people\": 3963441, \"sex\": 2, \"year\": 1980}, {\"age\": 75, \"people\": 1840438, \"sex\": 1, \"year\": 1980}, {\"age\": 75, \"people\": 2951759, \"sex\": 2, \"year\": 1980}, {\"age\": 80, \"people\": 1012886, \"sex\": 1, \"year\": 1980}, {\"age\": 80, \"people\": 1919292, \"sex\": 2, \"year\": 1980}, {\"age\": 85, \"people\": 472338, \"sex\": 1, \"year\": 1980}, {\"age\": 85, \"people\": 1023115, \"sex\": 2, \"year\": 1980}, {\"age\": 90, \"people\": 204148, \"sex\": 1, \"year\": 1980}, {\"age\": 90, \"people\": 499046, \"sex\": 2, \"year\": 1980}, {\"age\": 0, \"people\": 9307465, \"sex\": 1, \"year\": 1990}, {\"age\": 0, \"people\": 8894007, \"sex\": 2, \"year\": 1990}, {\"age\": 5, \"people\": 9274732, \"sex\": 1, \"year\": 1990}, {\"age\": 5, \"people\": 8799955, \"sex\": 2, \"year\": 1990}, {\"age\": 10, \"people\": 8782542, \"sex\": 1, \"year\": 1990}, {\"age\": 10, \"people\": 8337284, \"sex\": 2, \"year\": 1990}, {\"age\": 15, \"people\": 9020572, \"sex\": 1, \"year\": 1990}, {\"age\": 15, \"people\": 8590991, \"sex\": 2, \"year\": 1990}, {\"age\": 20, \"people\": 9436188, \"sex\": 1, \"year\": 1990}, {\"age\": 20, \"people\": 9152644, \"sex\": 2, \"year\": 1990}, {\"age\": 25, \"people\": 10658027, \"sex\": 1, \"year\": 1990}, {\"age\": 25, \"people\": 10587292, \"sex\": 2, \"year\": 1990}, {\"age\": 30, \"people\": 11028712, \"sex\": 1, \"year\": 1990}, {\"age\": 30, \"people\": 11105750, \"sex\": 2, \"year\": 1990}, {\"age\": 35, \"people\": 9853933, \"sex\": 1, \"year\": 1990}, {\"age\": 35, \"people\": 10038644, \"sex\": 2, \"year\": 1990}, {\"age\": 40, \"people\": 8712632, \"sex\": 1, \"year\": 1990}, {\"age\": 40, \"people\": 8928252, \"sex\": 2, \"year\": 1990}, {\"age\": 45, \"people\": 6848082, \"sex\": 1, \"year\": 1990}, {\"age\": 45, \"people\": 7115129, \"sex\": 2, \"year\": 1990}, {\"age\": 50, \"people\": 5553992, \"sex\": 1, \"year\": 1990}, {\"age\": 50, \"people\": 5899925, \"sex\": 2, \"year\": 1990}, {\"age\": 55, \"people\": 4981670, \"sex\": 1, \"year\": 1990}, {\"age\": 55, \"people\": 5460506, \"sex\": 2, \"year\": 1990}, {\"age\": 60, \"people\": 4953822, \"sex\": 1, \"year\": 1990}, {\"age\": 60, \"people\": 5663205, \"sex\": 2, \"year\": 1990}, {\"age\": 65, \"people\": 4538398, \"sex\": 1, \"year\": 1990}, {\"age\": 65, \"people\": 5594108, \"sex\": 2, \"year\": 1990}, {\"age\": 70, \"people\": 3429420, \"sex\": 1, \"year\": 1990}, {\"age\": 70, \"people\": 4610222, \"sex\": 2, \"year\": 1990}, {\"age\": 75, \"people\": 2344932, \"sex\": 1, \"year\": 1990}, {\"age\": 75, \"people\": 3723980, \"sex\": 2, \"year\": 1990}, {\"age\": 80, \"people\": 1342996, \"sex\": 1, \"year\": 1990}, {\"age\": 80, \"people\": 2545730, \"sex\": 2, \"year\": 1990}, {\"age\": 85, \"people\": 588790, \"sex\": 1, \"year\": 1990}, {\"age\": 85, \"people\": 1419494, \"sex\": 2, \"year\": 1990}, {\"age\": 90, \"people\": 238459, \"sex\": 1, \"year\": 1990}, {\"age\": 90, \"people\": 745146, \"sex\": 2, \"year\": 1990}, {\"age\": 0, \"people\": 9735380, \"sex\": 1, \"year\": 2000}, {\"age\": 0, \"people\": 9310714, \"sex\": 2, \"year\": 2000}, {\"age\": 5, \"people\": 10552146, \"sex\": 1, \"year\": 2000}, {\"age\": 5, \"people\": 10069564, \"sex\": 2, \"year\": 2000}, {\"age\": 10, \"people\": 10563233, \"sex\": 1, \"year\": 2000}, {\"age\": 10, \"people\": 10022524, \"sex\": 2, \"year\": 2000}, {\"age\": 15, \"people\": 10237419, \"sex\": 1, \"year\": 2000}, {\"age\": 15, \"people\": 9692669, \"sex\": 2, \"year\": 2000}, {\"age\": 20, \"people\": 9731315, \"sex\": 1, \"year\": 2000}, {\"age\": 20, \"people\": 9324244, \"sex\": 2, \"year\": 2000}, {\"age\": 25, \"people\": 9659493, \"sex\": 1, \"year\": 2000}, {\"age\": 25, \"people\": 9518507, \"sex\": 2, \"year\": 2000}, {\"age\": 30, \"people\": 10205879, \"sex\": 1, \"year\": 2000}, {\"age\": 30, \"people\": 10119296, \"sex\": 2, \"year\": 2000}, {\"age\": 35, \"people\": 11475182, \"sex\": 1, \"year\": 2000}, {\"age\": 35, \"people\": 11635647, \"sex\": 2, \"year\": 2000}, {\"age\": 40, \"people\": 11320252, \"sex\": 1, \"year\": 2000}, {\"age\": 40, \"people\": 11488578, \"sex\": 2, \"year\": 2000}, {\"age\": 45, \"people\": 9925006, \"sex\": 1, \"year\": 2000}, {\"age\": 45, \"people\": 10261253, \"sex\": 2, \"year\": 2000}, {\"age\": 50, \"people\": 8507934, \"sex\": 1, \"year\": 2000}, {\"age\": 50, \"people\": 8911133, \"sex\": 2, \"year\": 2000}, {\"age\": 55, \"people\": 6459082, \"sex\": 1, \"year\": 2000}, {\"age\": 55, \"people\": 6921268, \"sex\": 2, \"year\": 2000}, {\"age\": 60, \"people\": 5123399, \"sex\": 1, \"year\": 2000}, {\"age\": 60, \"people\": 5668961, \"sex\": 2, \"year\": 2000}, {\"age\": 65, \"people\": 4453623, \"sex\": 1, \"year\": 2000}, {\"age\": 65, \"people\": 4804784, \"sex\": 2, \"year\": 2000}, {\"age\": 70, \"people\": 3792145, \"sex\": 1, \"year\": 2000}, {\"age\": 70, \"people\": 5184855, \"sex\": 2, \"year\": 2000}, {\"age\": 75, \"people\": 2912655, \"sex\": 1, \"year\": 2000}, {\"age\": 75, \"people\": 4355644, \"sex\": 2, \"year\": 2000}, {\"age\": 80, \"people\": 1902638, \"sex\": 1, \"year\": 2000}, {\"age\": 80, \"people\": 3221898, \"sex\": 2, \"year\": 2000}, {\"age\": 85, \"people\": 970357, \"sex\": 1, \"year\": 2000}, {\"age\": 85, \"people\": 1981156, \"sex\": 2, \"year\": 2000}, {\"age\": 90, \"people\": 336303, \"sex\": 1, \"year\": 2000}, {\"age\": 90, \"people\": 1064581, \"sex\": 2, \"year\": 2000}]}, \"transform\": {\"filter\": \"datum.year == 2000\"}};\n",
       "var selector = \"#2d267453-f7b6-4076-a5f8-5923c2885e5e\";\n",
       "var type = \"vega-lite\";\n",
       "\n",
       "var output_area = this;\n",
       "require(['nbextensions/jupyter-vega/index'], function(vega) {\n",
       "  vega.render(selector, spec, type, output_area);\n",
       "}, function (err) {\n",
       "  if (err.requireType !== 'scripterror') {\n",
       "    throw(err);\n",
       "  }\n",
       "});\n"
      ]
     },
     "metadata": {
      "jupyter-vega": "#2d267453-f7b6-4076-a5f8-5923c2885e5e"
     },
     "output_type": "display_data"
    },
    {
     "data": {
      "image/png": "[encoded data removed]"
     },
     "metadata": {
      "jupyter-vega": "#2d267453-f7b6-4076-a5f8-5923c2885e5e"
     },
     "output_type": "display_data"
    }
   ],
   "source": [
    "chart"
   ]
  },
  {
   "cell_type": "markdown",
   "metadata": {},
   "source": [
    "## Output Vega-Lite Specification"
   ]
  },
  {
   "cell_type": "markdown",
   "metadata": {},
   "source": [
    "Generate JSON dict, leaving data out:"
   ]
  },
  {
   "cell_type": "code",
   "execution_count": 5,
   "metadata": {},
   "outputs": [
    {
     "data": {
      "text/plain": [
       "{'$schema': 'https://vega.github.io/schema/vega-lite/v1.2.1.json',\n",
       " 'config': {'scale': {'bandSize': 21.0}},\n",
       " 'encoding': {'x': {'aggregate': 'sum',\n",
       "   'axis': {'title': 'population'},\n",
       "   'field': 'people',\n",
       "   'type': 'quantitative'}},\n",
       " 'mark': 'bar',\n",
       " 'transform': {'filter': 'datum.year == 2000'}}"
      ]
     },
     "execution_count": 5,
     "metadata": {},
     "output_type": "execute_result"
    }
   ],
   "source": [
    "chart.to_dict(data=False)"
   ]
  }
 ],
 "metadata": {
  "kernelspec": {
   "display_name": "Python 3",
   "language": "python",
   "name": "python3"
  },
  "language": "python",
  "language_info": {
   "codemirror_mode": {
    "name": "ipython",
    "version": 3
   },
   "file_extension": ".py",
   "mimetype": "text/x-python",
   "name": "python",
   "nbconvert_exporter": "python",
   "pygments_lexer": "ipython3",
   "version": "3.5.2"
  }
 },
 "nbformat": 4,
 "nbformat_minor": 2
}
