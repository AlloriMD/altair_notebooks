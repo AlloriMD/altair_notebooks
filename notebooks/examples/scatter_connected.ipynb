{
 "cells": [
  {
   "cell_type": "markdown",
   "metadata": {},
   "source": [
    "<small>*Notebook auto-generated from [``altair/examples/json/scatter_connected.vl.json``](../../altair/examples/json/scatter_connected.vl.json)*</small>\n",
    "\n",
    "# Altair Example: Scatter Connected\n",
    "\n",
    "--\n",
    "\n"
   ]
  },
  {
   "cell_type": "code",
   "execution_count": 1,
   "metadata": {},
   "outputs": [],
   "source": [
    "# Uncomment and run these two lines to enable rendering in JupyterLab/nteract\n",
    "# from altair import enable_mime_rendering\n",
    "# enable_mime_rendering()"
   ]
  },
  {
   "cell_type": "markdown",
   "metadata": {},
   "source": [
    "## Load Dataset\n",
    "The data comes in the form of a Pandas Dataframe:"
   ]
  },
  {
   "cell_type": "code",
   "execution_count": 2,
   "metadata": {},
   "outputs": [
    {
     "data": {
      "text/html": [
       "<div>\n",
       "<style>\n",
       "    .dataframe thead tr:only-child th {\n",
       "        text-align: right;\n",
       "    }\n",
       "\n",
       "    .dataframe thead th {\n",
       "        text-align: left;\n",
       "    }\n",
       "\n",
       "    .dataframe tbody tr th {\n",
       "        vertical-align: top;\n",
       "    }\n",
       "</style>\n",
       "<table border=\"1\" class=\"dataframe\">\n",
       "  <thead>\n",
       "    <tr style=\"text-align: right;\">\n",
       "      <th></th>\n",
       "      <th>gas</th>\n",
       "      <th>miles</th>\n",
       "      <th>side</th>\n",
       "      <th>year</th>\n",
       "    </tr>\n",
       "  </thead>\n",
       "  <tbody>\n",
       "    <tr>\n",
       "      <th>0</th>\n",
       "      <td>2.38</td>\n",
       "      <td>3675</td>\n",
       "      <td>left</td>\n",
       "      <td>1956</td>\n",
       "    </tr>\n",
       "    <tr>\n",
       "      <th>1</th>\n",
       "      <td>2.40</td>\n",
       "      <td>3706</td>\n",
       "      <td>right</td>\n",
       "      <td>1957</td>\n",
       "    </tr>\n",
       "    <tr>\n",
       "      <th>2</th>\n",
       "      <td>2.26</td>\n",
       "      <td>3766</td>\n",
       "      <td>bottom</td>\n",
       "      <td>1958</td>\n",
       "    </tr>\n",
       "    <tr>\n",
       "      <th>3</th>\n",
       "      <td>2.31</td>\n",
       "      <td>3905</td>\n",
       "      <td>top</td>\n",
       "      <td>1959</td>\n",
       "    </tr>\n",
       "    <tr>\n",
       "      <th>4</th>\n",
       "      <td>2.27</td>\n",
       "      <td>3935</td>\n",
       "      <td>right</td>\n",
       "      <td>1960</td>\n",
       "    </tr>\n",
       "  </tbody>\n",
       "</table>\n",
       "</div>"
      ],
      "text/plain": [
       "    gas  miles    side  year\n",
       "0  2.38   3675    left  1956\n",
       "1  2.40   3706   right  1957\n",
       "2  2.26   3766  bottom  1958\n",
       "3  2.31   3905     top  1959\n",
       "4  2.27   3935   right  1960"
      ]
     },
     "execution_count": 2,
     "metadata": {},
     "output_type": "execute_result"
    }
   ],
   "source": [
    "from altair import load_dataset\n",
    "data = load_dataset(\"driving\")\n",
    "data.head()"
   ]
  },
  {
   "cell_type": "markdown",
   "metadata": {},
   "source": [
    "## Define Altair Specification"
   ]
  },
  {
   "cell_type": "code",
   "execution_count": 3,
   "metadata": {},
   "outputs": [],
   "source": [
    "from altair import *  # Import the altair API\n",
    "\n",
    "chart = Chart(data).mark_line().encode(\n",
    "    path='year:T',\n",
    "    x=X('miles:Q',\n",
    "        scale=Scale(\n",
    "            zero=False,\n",
    "        ),\n",
    "    ),\n",
    "    y=Y('gas:Q',\n",
    "        scale=Scale(\n",
    "            zero=False,\n",
    "        ),\n",
    "    ),\n",
    ").configure_overlay(\n",
    "    line=True,\n",
    ")\n",
    "\n",
    "chart.max_rows = len(data)  # Altair 1.2.1 has a max_rows of 500 by default"
   ]
  },
  {
   "cell_type": "markdown",
   "metadata": {},
   "source": [
    "IPython rich display will invoke Vega-Lite:"
   ]
  },
  {
   "cell_type": "code",
   "execution_count": 4,
   "metadata": {},
   "outputs": [
    {
     "data": {
      "text/html": [
       "<div class=\"vega-embed\" id=\"dbad4836-84d8-43cd-bcd3-832abdaaf5fa\"></div>\n",
       "\n",
       "<style>\n",
       ".vega-embed svg, .vega-embed canvas {\n",
       "  border: 1px dotted gray;\n",
       "}\n",
       "\n",
       ".vega-embed .vega-actions a {\n",
       "  margin-right: 6px;\n",
       "}\n",
       "</style>\n"
      ]
     },
     "metadata": {
      "jupyter-vega": "#dbad4836-84d8-43cd-bcd3-832abdaaf5fa"
     },
     "output_type": "display_data"
    },
    {
     "data": {
      "application/javascript": [
       "var spec = {\"$schema\": \"https://vega.github.io/schema/vega-lite/v1.2.1.json\", \"mark\": \"line\", \"config\": {\"overlay\": {\"line\": true}, \"cell\": {\"height\": 350, \"width\": 500}}, \"encoding\": {\"path\": {\"field\": \"year\", \"type\": \"temporal\"}, \"y\": {\"field\": \"gas\", \"type\": \"quantitative\", \"scale\": {\"zero\": false}}, \"x\": {\"field\": \"miles\", \"type\": \"quantitative\", \"scale\": {\"zero\": false}}}, \"data\": {\"values\": [{\"year\": 1956, \"gas\": 2.38, \"miles\": 3675, \"side\": \"left\"}, {\"year\": 1957, \"gas\": 2.4, \"miles\": 3706, \"side\": \"right\"}, {\"year\": 1958, \"gas\": 2.26, \"miles\": 3766, \"side\": \"bottom\"}, {\"year\": 1959, \"gas\": 2.31, \"miles\": 3905, \"side\": \"top\"}, {\"year\": 1960, \"gas\": 2.27, \"miles\": 3935, \"side\": \"right\"}, {\"year\": 1961, \"gas\": 2.25, \"miles\": 3977, \"side\": \"bottom\"}, {\"year\": 1962, \"gas\": 2.22, \"miles\": 4085, \"side\": \"right\"}, {\"year\": 1963, \"gas\": 2.12, \"miles\": 4218, \"side\": \"bottom\"}, {\"year\": 1964, \"gas\": 2.11, \"miles\": 4369, \"side\": \"bottom\"}, {\"year\": 1965, \"gas\": 2.14, \"miles\": 4538, \"side\": \"bottom\"}, {\"year\": 1966, \"gas\": 2.14, \"miles\": 4676, \"side\": \"top\"}, {\"year\": 1967, \"gas\": 2.14, \"miles\": 4827, \"side\": \"bottom\"}, {\"year\": 1968, \"gas\": 2.13, \"miles\": 5038, \"side\": \"right\"}, {\"year\": 1969, \"gas\": 2.07, \"miles\": 5207, \"side\": \"right\"}, {\"year\": 1970, \"gas\": 2.01, \"miles\": 5376, \"side\": \"right\"}, {\"year\": 1971, \"gas\": 1.9300000000000002, \"miles\": 5617, \"side\": \"bottom\"}, {\"year\": 1972, \"gas\": 1.87, \"miles\": 5973, \"side\": \"bottom\"}, {\"year\": 1973, \"gas\": 1.9, \"miles\": 6154, \"side\": \"right\"}, {\"year\": 1974, \"gas\": 2.34, \"miles\": 5943, \"side\": \"left\"}, {\"year\": 1975, \"gas\": 2.31, \"miles\": 6111, \"side\": \"bottom\"}, {\"year\": 1976, \"gas\": 2.32, \"miles\": 6389, \"side\": \"bottom\"}, {\"year\": 1977, \"gas\": 2.36, \"miles\": 6630, \"side\": \"top\"}, {\"year\": 1978, \"gas\": 2.23, \"miles\": 6883, \"side\": \"bottom\"}, {\"year\": 1979, \"gas\": 2.68, \"miles\": 6744, \"side\": \"left\"}, {\"year\": 1980, \"gas\": 3.3, \"miles\": 6672, \"side\": \"left\"}, {\"year\": 1981, \"gas\": 3.3, \"miles\": 6732, \"side\": \"right\"}, {\"year\": 1982, \"gas\": 2.92, \"miles\": 6835, \"side\": \"right\"}, {\"year\": 1983, \"gas\": 2.66, \"miles\": 6943, \"side\": \"right\"}, {\"year\": 1984, \"gas\": 2.48, \"miles\": 7130, \"side\": \"right\"}, {\"year\": 1985, \"gas\": 2.36, \"miles\": 7323, \"side\": \"right\"}, {\"year\": 1986, \"gas\": 1.76, \"miles\": 7558, \"side\": \"left\"}, {\"year\": 1987, \"gas\": 1.76, \"miles\": 7770, \"side\": \"top\"}, {\"year\": 1988, \"gas\": 1.6800000000000002, \"miles\": 8089, \"side\": \"bottom\"}, {\"year\": 1989, \"gas\": 1.75, \"miles\": 8397, \"side\": \"left\"}, {\"year\": 1990, \"gas\": 1.88, \"miles\": 8529, \"side\": \"top\"}, {\"year\": 1991, \"gas\": 1.78, \"miles\": 8535, \"side\": \"right\"}, {\"year\": 1992, \"gas\": 1.69, \"miles\": 8662, \"side\": \"right\"}, {\"year\": 1993, \"gas\": 1.6, \"miles\": 8855, \"side\": \"left\"}, {\"year\": 1994, \"gas\": 1.5899999999999999, \"miles\": 8909, \"side\": \"bottom\"}, {\"year\": 1995, \"gas\": 1.6, \"miles\": 9150, \"side\": \"bottom\"}, {\"year\": 1996, \"gas\": 1.67, \"miles\": 9192, \"side\": \"top\"}, {\"year\": 1997, \"gas\": 1.65, \"miles\": 9416, \"side\": \"right\"}, {\"year\": 1998, \"gas\": 1.3900000000000001, \"miles\": 9590, \"side\": \"bottom\"}, {\"year\": 1999, \"gas\": 1.5, \"miles\": 9687, \"side\": \"right\"}, {\"year\": 2000, \"gas\": 1.8900000000000001, \"miles\": 9717, \"side\": \"top\"}, {\"year\": 2001, \"gas\": 1.77, \"miles\": 9699, \"side\": \"left\"}, {\"year\": 2002, \"gas\": 1.6400000000000001, \"miles\": 9814, \"side\": \"bottom\"}, {\"year\": 2003, \"gas\": 1.8599999999999999, \"miles\": 9868, \"side\": \"right\"}, {\"year\": 2004, \"gas\": 2.14, \"miles\": 9994, \"side\": \"left\"}, {\"year\": 2005, \"gas\": 2.5300000000000002, \"miles\": 10067, \"side\": \"left\"}, {\"year\": 2006, \"gas\": 2.79, \"miles\": 10037, \"side\": \"right\"}, {\"year\": 2007, \"gas\": 2.95, \"miles\": 10025, \"side\": \"right\"}, {\"year\": 2008, \"gas\": 3.31, \"miles\": 9880, \"side\": \"left\"}, {\"year\": 2009, \"gas\": 2.38, \"miles\": 9657, \"side\": \"bottom\"}, {\"year\": 2010, \"gas\": 2.61, \"miles\": 9596, \"side\": \"left\"}]}};\n",
       "var selector = \"#dbad4836-84d8-43cd-bcd3-832abdaaf5fa\";\n",
       "var type = \"vega-lite\";\n",
       "\n",
       "var output_area = this;\n",
       "require(['nbextensions/jupyter-vega/index'], function(vega) {\n",
       "  vega.render(selector, spec, type, output_area);\n",
       "}, function (err) {\n",
       "  if (err.requireType !== 'scripterror') {\n",
       "    throw(err);\n",
       "  }\n",
       "});\n"
      ]
     },
     "metadata": {
      "jupyter-vega": "#dbad4836-84d8-43cd-bcd3-832abdaaf5fa"
     },
     "output_type": "display_data"
    },
    {
     "data": {
      "image/png": "[encoded data removed]"
     },
     "metadata": {
      "jupyter-vega": "#dbad4836-84d8-43cd-bcd3-832abdaaf5fa"
     },
     "output_type": "display_data"
    }
   ],
   "source": [
    "chart"
   ]
  },
  {
   "cell_type": "markdown",
   "metadata": {},
   "source": [
    "## Output Vega-Lite Specification"
   ]
  },
  {
   "cell_type": "markdown",
   "metadata": {},
   "source": [
    "Generate JSON dict, leaving data out:"
   ]
  },
  {
   "cell_type": "code",
   "execution_count": 5,
   "metadata": {},
   "outputs": [
    {
     "data": {
      "text/plain": [
       "{'$schema': 'https://vega.github.io/schema/vega-lite/v1.2.1.json',\n",
       " 'config': {'overlay': {'line': True}},\n",
       " 'encoding': {'path': {'field': 'year', 'type': 'temporal'},\n",
       "  'x': {'field': 'miles', 'scale': {'zero': False}, 'type': 'quantitative'},\n",
       "  'y': {'field': 'gas', 'scale': {'zero': False}, 'type': 'quantitative'}},\n",
       " 'mark': 'line'}"
      ]
     },
     "execution_count": 5,
     "metadata": {},
     "output_type": "execute_result"
    }
   ],
   "source": [
    "chart.to_dict(data=False)"
   ]
  }
 ],
 "metadata": {
  "kernelspec": {
   "display_name": "Python 3",
   "language": "python",
   "name": "python3"
  },
  "language": "python",
  "language_info": {
   "codemirror_mode": {
    "name": "ipython",
    "version": 3
   },
   "file_extension": ".py",
   "mimetype": "text/x-python",
   "name": "python",
   "nbconvert_exporter": "python",
   "pygments_lexer": "ipython3",
   "version": "3.5.2"
  }
 },
 "nbformat": 4,
 "nbformat_minor": 2
}
