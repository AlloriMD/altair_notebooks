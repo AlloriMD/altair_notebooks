{
 "cells": [
  {
   "cell_type": "code",
   "execution_count": null,
   "metadata": {},
   "outputs": [],
   "source": [
    "\"\"\"\n",
    "Rectangular Brush\n",
    "=================\n",
    "This example shows how to add a simple rectangular brush to a scatter plot.\n",
    "By clicking and dragging on the plot, you can highlight points within the\n",
    "range.\n",
    "\"\"\"\n",
    "# category: interactive\n",
    "\n",
    "import altair as alt\n",
    "from vega_datasets import data\n",
    "\n",
    "cars = data.cars.url\n",
    "brush = alt.selection(type='interval')\n",
    "\n",
    "alt.Chart(cars).mark_point().encode(\n",
    "    x='Horsepower:Q',\n",
    "    y='Miles_per_Gallon:Q',\n",
    "    color=alt.condition(brush, 'Cylinders:O', alt.value('grey'))\n",
    ").properties(\n",
    "    selection=brush\n",
    ")\n"
   ]
  }
 ],
 "metadata": {
  "kernelspec": {
   "display_name": "Python 3",
   "env": {},
   "interrupt_mode": "signal",
   "language": "python",
   "metadata": {},
   "name": "python3"
  },
  "language": "python"
 },
 "nbformat": 4,
 "nbformat_minor": 2
}
