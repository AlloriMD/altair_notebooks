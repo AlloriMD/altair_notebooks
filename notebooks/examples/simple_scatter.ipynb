{
 "cells": [
  {
   "cell_type": "code",
   "execution_count": null,
   "metadata": {},
   "outputs": [],
   "source": [
    "\"\"\"\n",
    "Simple Scatter Plot\n",
    "-------------------\n",
    "\n",
    "A simple example of an interactive scatter plot using the well-known iris\n",
    "dataset.\n",
    "\"\"\"\n",
    "# category: basic charts\n",
    "\n",
    "import altair as alt\n",
    "from vega_datasets import data\n",
    "\n",
    "iris = data.iris()\n",
    "\n",
    "alt.Chart(iris).mark_point().encode(\n",
    "    x='petalWidth',\n",
    "    y='petalLength',\n",
    "    color='species'\n",
    ").interactive()\n"
   ]
  }
 ],
 "metadata": {
  "kernelspec": {
   "display_name": "Python 3",
   "env": {},
   "interrupt_mode": "signal",
   "language": "python",
   "metadata": {},
   "name": "python3"
  },
  "language": "python"
 },
 "nbformat": 4,
 "nbformat_minor": 2
}
