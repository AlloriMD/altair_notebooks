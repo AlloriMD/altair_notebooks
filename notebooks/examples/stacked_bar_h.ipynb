{
 "cells": [
  {
   "cell_type": "markdown",
   "metadata": {},
   "source": [
    "<small>*Notebook auto-generated from [``altair/examples/json/stacked_bar_h.vl.json``](../../altair/examples/json/stacked_bar_h.vl.json)*</small>\n",
    "\n",
    "# Altair Example: Stacked Bar H\n",
    "\n",
    "--\n",
    "\n"
   ]
  },
  {
   "cell_type": "code",
   "execution_count": 1,
   "metadata": {},
   "outputs": [],
   "source": [
    "# Uncomment and run these two lines to enable rendering in JupyterLab/nteract\n",
    "# from altair import enable_mime_rendering\n",
    "# enable_mime_rendering()"
   ]
  },
  {
   "cell_type": "markdown",
   "metadata": {},
   "source": [
    "## Load Dataset\n",
    "The data comes in the form of a Pandas Dataframe:"
   ]
  },
  {
   "cell_type": "code",
   "execution_count": 2,
   "metadata": {},
   "outputs": [
    {
     "data": {
      "text/html": [
       "<div>\n",
       "<style>\n",
       "    .dataframe thead tr:only-child th {\n",
       "        text-align: right;\n",
       "    }\n",
       "\n",
       "    .dataframe thead th {\n",
       "        text-align: left;\n",
       "    }\n",
       "\n",
       "    .dataframe tbody tr th {\n",
       "        vertical-align: top;\n",
       "    }\n",
       "</style>\n",
       "<table border=\"1\" class=\"dataframe\">\n",
       "  <thead>\n",
       "    <tr style=\"text-align: right;\">\n",
       "      <th></th>\n",
       "      <th>site</th>\n",
       "      <th>variety</th>\n",
       "      <th>year</th>\n",
       "      <th>yield</th>\n",
       "    </tr>\n",
       "  </thead>\n",
       "  <tbody>\n",
       "    <tr>\n",
       "      <th>0</th>\n",
       "      <td>University Farm</td>\n",
       "      <td>Manchuria</td>\n",
       "      <td>1931</td>\n",
       "      <td>27.00000</td>\n",
       "    </tr>\n",
       "    <tr>\n",
       "      <th>1</th>\n",
       "      <td>Waseca</td>\n",
       "      <td>Manchuria</td>\n",
       "      <td>1931</td>\n",
       "      <td>48.86667</td>\n",
       "    </tr>\n",
       "    <tr>\n",
       "      <th>2</th>\n",
       "      <td>Morris</td>\n",
       "      <td>Manchuria</td>\n",
       "      <td>1931</td>\n",
       "      <td>27.43334</td>\n",
       "    </tr>\n",
       "    <tr>\n",
       "      <th>3</th>\n",
       "      <td>Crookston</td>\n",
       "      <td>Manchuria</td>\n",
       "      <td>1931</td>\n",
       "      <td>39.93333</td>\n",
       "    </tr>\n",
       "    <tr>\n",
       "      <th>4</th>\n",
       "      <td>Grand Rapids</td>\n",
       "      <td>Manchuria</td>\n",
       "      <td>1931</td>\n",
       "      <td>32.96667</td>\n",
       "    </tr>\n",
       "  </tbody>\n",
       "</table>\n",
       "</div>"
      ],
      "text/plain": [
       "              site    variety  year     yield\n",
       "0  University Farm  Manchuria  1931  27.00000\n",
       "1           Waseca  Manchuria  1931  48.86667\n",
       "2           Morris  Manchuria  1931  27.43334\n",
       "3        Crookston  Manchuria  1931  39.93333\n",
       "4     Grand Rapids  Manchuria  1931  32.96667"
      ]
     },
     "execution_count": 2,
     "metadata": {},
     "output_type": "execute_result"
    }
   ],
   "source": [
    "from altair import load_dataset\n",
    "data = load_dataset(\"barley\")\n",
    "data.head()"
   ]
  },
  {
   "cell_type": "markdown",
   "metadata": {},
   "source": [
    "## Define Altair Specification"
   ]
  },
  {
   "cell_type": "code",
   "execution_count": 3,
   "metadata": {},
   "outputs": [],
   "source": [
    "from altair import *  # Import the altair API\n",
    "\n",
    "chart = Chart(data).mark_bar().encode(\n",
    "    color='site:N',\n",
    "    x='sum(yield):Q',\n",
    "    y='variety:N',\n",
    ")\n",
    "\n",
    "chart.max_rows = len(data)  # Altair 1.2.1 has a max_rows of 500 by default"
   ]
  },
  {
   "cell_type": "markdown",
   "metadata": {},
   "source": [
    "IPython rich display will invoke Vega-Lite:"
   ]
  },
  {
   "cell_type": "code",
   "execution_count": 4,
   "metadata": {},
   "outputs": [
    {
     "data": {
      "text/html": [
       "<div class=\"vega-embed\" id=\"a23abd28-6365-4ed6-a82f-a85d335653aa\"></div>\n",
       "\n",
       "<style>\n",
       ".vega-embed svg, .vega-embed canvas {\n",
       "  border: 1px dotted gray;\n",
       "}\n",
       "\n",
       ".vega-embed .vega-actions a {\n",
       "  margin-right: 6px;\n",
       "}\n",
       "</style>\n"
      ]
     },
     "metadata": {
      "jupyter-vega": "#a23abd28-6365-4ed6-a82f-a85d335653aa"
     },
     "output_type": "display_data"
    },
    {
     "data": {
      "application/javascript": [
       "var spec = {\"mark\": \"bar\", \"$schema\": \"https://vega.github.io/schema/vega-lite/v1.2.1.json\", \"data\": {\"values\": [{\"yield\": 27.0, \"site\": \"University Farm\", \"variety\": \"Manchuria\", \"year\": 1931}, {\"yield\": 48.86667, \"site\": \"Waseca\", \"variety\": \"Manchuria\", \"year\": 1931}, {\"yield\": 27.43334, \"site\": \"Morris\", \"variety\": \"Manchuria\", \"year\": 1931}, {\"yield\": 39.93333, \"site\": \"Crookston\", \"variety\": \"Manchuria\", \"year\": 1931}, {\"yield\": 32.96667, \"site\": \"Grand Rapids\", \"variety\": \"Manchuria\", \"year\": 1931}, {\"yield\": 28.96667, \"site\": \"Duluth\", \"variety\": \"Manchuria\", \"year\": 1931}, {\"yield\": 43.06666, \"site\": \"University Farm\", \"variety\": \"Glabron\", \"year\": 1931}, {\"yield\": 55.2, \"site\": \"Waseca\", \"variety\": \"Glabron\", \"year\": 1931}, {\"yield\": 28.76667, \"site\": \"Morris\", \"variety\": \"Glabron\", \"year\": 1931}, {\"yield\": 38.13333, \"site\": \"Crookston\", \"variety\": \"Glabron\", \"year\": 1931}, {\"yield\": 29.13333, \"site\": \"Grand Rapids\", \"variety\": \"Glabron\", \"year\": 1931}, {\"yield\": 29.66667, \"site\": \"Duluth\", \"variety\": \"Glabron\", \"year\": 1931}, {\"yield\": 35.13333, \"site\": \"University Farm\", \"variety\": \"Svansota\", \"year\": 1931}, {\"yield\": 47.33333, \"site\": \"Waseca\", \"variety\": \"Svansota\", \"year\": 1931}, {\"yield\": 25.76667, \"site\": \"Morris\", \"variety\": \"Svansota\", \"year\": 1931}, {\"yield\": 40.46667, \"site\": \"Crookston\", \"variety\": \"Svansota\", \"year\": 1931}, {\"yield\": 29.66667, \"site\": \"Grand Rapids\", \"variety\": \"Svansota\", \"year\": 1931}, {\"yield\": 25.7, \"site\": \"Duluth\", \"variety\": \"Svansota\", \"year\": 1931}, {\"yield\": 39.9, \"site\": \"University Farm\", \"variety\": \"Velvet\", \"year\": 1931}, {\"yield\": 50.23333, \"site\": \"Waseca\", \"variety\": \"Velvet\", \"year\": 1931}, {\"yield\": 26.13333, \"site\": \"Morris\", \"variety\": \"Velvet\", \"year\": 1931}, {\"yield\": 41.33333, \"site\": \"Crookston\", \"variety\": \"Velvet\", \"year\": 1931}, {\"yield\": 23.03333, \"site\": \"Grand Rapids\", \"variety\": \"Velvet\", \"year\": 1931}, {\"yield\": 26.3, \"site\": \"Duluth\", \"variety\": \"Velvet\", \"year\": 1931}, {\"yield\": 36.56666, \"site\": \"University Farm\", \"variety\": \"Trebi\", \"year\": 1931}, {\"yield\": 63.8333, \"site\": \"Waseca\", \"variety\": \"Trebi\", \"year\": 1931}, {\"yield\": 43.76667, \"site\": \"Morris\", \"variety\": \"Trebi\", \"year\": 1931}, {\"yield\": 46.93333, \"site\": \"Crookston\", \"variety\": \"Trebi\", \"year\": 1931}, {\"yield\": 29.76667, \"site\": \"Grand Rapids\", \"variety\": \"Trebi\", \"year\": 1931}, {\"yield\": 33.93333, \"site\": \"Duluth\", \"variety\": \"Trebi\", \"year\": 1931}, {\"yield\": 43.26667, \"site\": \"University Farm\", \"variety\": \"No. 457\", \"year\": 1931}, {\"yield\": 58.1, \"site\": \"Waseca\", \"variety\": \"No. 457\", \"year\": 1931}, {\"yield\": 28.7, \"site\": \"Morris\", \"variety\": \"No. 457\", \"year\": 1931}, {\"yield\": 45.66667, \"site\": \"Crookston\", \"variety\": \"No. 457\", \"year\": 1931}, {\"yield\": 32.16667, \"site\": \"Grand Rapids\", \"variety\": \"No. 457\", \"year\": 1931}, {\"yield\": 33.6, \"site\": \"Duluth\", \"variety\": \"No. 457\", \"year\": 1931}, {\"yield\": 36.6, \"site\": \"University Farm\", \"variety\": \"No. 462\", \"year\": 1931}, {\"yield\": 65.7667, \"site\": \"Waseca\", \"variety\": \"No. 462\", \"year\": 1931}, {\"yield\": 30.36667, \"site\": \"Morris\", \"variety\": \"No. 462\", \"year\": 1931}, {\"yield\": 48.56666, \"site\": \"Crookston\", \"variety\": \"No. 462\", \"year\": 1931}, {\"yield\": 24.93334, \"site\": \"Grand Rapids\", \"variety\": \"No. 462\", \"year\": 1931}, {\"yield\": 28.1, \"site\": \"Duluth\", \"variety\": \"No. 462\", \"year\": 1931}, {\"yield\": 32.76667, \"site\": \"University Farm\", \"variety\": \"Peatland\", \"year\": 1931}, {\"yield\": 48.56666, \"site\": \"Waseca\", \"variety\": \"Peatland\", \"year\": 1931}, {\"yield\": 29.86667, \"site\": \"Morris\", \"variety\": \"Peatland\", \"year\": 1931}, {\"yield\": 41.6, \"site\": \"Crookston\", \"variety\": \"Peatland\", \"year\": 1931}, {\"yield\": 34.7, \"site\": \"Grand Rapids\", \"variety\": \"Peatland\", \"year\": 1931}, {\"yield\": 32.0, \"site\": \"Duluth\", \"variety\": \"Peatland\", \"year\": 1931}, {\"yield\": 24.66667, \"site\": \"University Farm\", \"variety\": \"No. 475\", \"year\": 1931}, {\"yield\": 46.76667, \"site\": \"Waseca\", \"variety\": \"No. 475\", \"year\": 1931}, {\"yield\": 22.6, \"site\": \"Morris\", \"variety\": \"No. 475\", \"year\": 1931}, {\"yield\": 44.1, \"site\": \"Crookston\", \"variety\": \"No. 475\", \"year\": 1931}, {\"yield\": 19.7, \"site\": \"Grand Rapids\", \"variety\": \"No. 475\", \"year\": 1931}, {\"yield\": 33.06666, \"site\": \"Duluth\", \"variety\": \"No. 475\", \"year\": 1931}, {\"yield\": 39.3, \"site\": \"University Farm\", \"variety\": \"Wisconsin No. 38\", \"year\": 1931}, {\"yield\": 58.8, \"site\": \"Waseca\", \"variety\": \"Wisconsin No. 38\", \"year\": 1931}, {\"yield\": 29.46667, \"site\": \"Morris\", \"variety\": \"Wisconsin No. 38\", \"year\": 1931}, {\"yield\": 49.86667, \"site\": \"Crookston\", \"variety\": \"Wisconsin No. 38\", \"year\": 1931}, {\"yield\": 34.46667, \"site\": \"Grand Rapids\", \"variety\": \"Wisconsin No. 38\", \"year\": 1931}, {\"yield\": 31.6, \"site\": \"Duluth\", \"variety\": \"Wisconsin No. 38\", \"year\": 1931}, {\"yield\": 26.9, \"site\": \"University Farm\", \"variety\": \"Manchuria\", \"year\": 1932}, {\"yield\": 33.46667, \"site\": \"Waseca\", \"variety\": \"Manchuria\", \"year\": 1932}, {\"yield\": 34.36666, \"site\": \"Morris\", \"variety\": \"Manchuria\", \"year\": 1932}, {\"yield\": 32.96667, \"site\": \"Crookston\", \"variety\": \"Manchuria\", \"year\": 1932}, {\"yield\": 22.13333, \"site\": \"Grand Rapids\", \"variety\": \"Manchuria\", \"year\": 1932}, {\"yield\": 22.56667, \"site\": \"Duluth\", \"variety\": \"Manchuria\", \"year\": 1932}, {\"yield\": 36.8, \"site\": \"University Farm\", \"variety\": \"Glabron\", \"year\": 1932}, {\"yield\": 37.73333, \"site\": \"Waseca\", \"variety\": \"Glabron\", \"year\": 1932}, {\"yield\": 35.13333, \"site\": \"Morris\", \"variety\": \"Glabron\", \"year\": 1932}, {\"yield\": 26.16667, \"site\": \"Crookston\", \"variety\": \"Glabron\", \"year\": 1932}, {\"yield\": 14.43333, \"site\": \"Grand Rapids\", \"variety\": \"Glabron\", \"year\": 1932}, {\"yield\": 25.86667, \"site\": \"Duluth\", \"variety\": \"Glabron\", \"year\": 1932}, {\"yield\": 27.43334, \"site\": \"University Farm\", \"variety\": \"Svansota\", \"year\": 1932}, {\"yield\": 38.5, \"site\": \"Waseca\", \"variety\": \"Svansota\", \"year\": 1932}, {\"yield\": 35.03333, \"site\": \"Morris\", \"variety\": \"Svansota\", \"year\": 1932}, {\"yield\": 20.63333, \"site\": \"Crookston\", \"variety\": \"Svansota\", \"year\": 1932}, {\"yield\": 16.63333, \"site\": \"Grand Rapids\", \"variety\": \"Svansota\", \"year\": 1932}, {\"yield\": 22.23333, \"site\": \"Duluth\", \"variety\": \"Svansota\", \"year\": 1932}, {\"yield\": 26.8, \"site\": \"University Farm\", \"variety\": \"Velvet\", \"year\": 1932}, {\"yield\": 37.4, \"site\": \"Waseca\", \"variety\": \"Velvet\", \"year\": 1932}, {\"yield\": 38.83333, \"site\": \"Morris\", \"variety\": \"Velvet\", \"year\": 1932}, {\"yield\": 32.06666, \"site\": \"Crookston\", \"variety\": \"Velvet\", \"year\": 1932}, {\"yield\": 32.23333, \"site\": \"Grand Rapids\", \"variety\": \"Velvet\", \"year\": 1932}, {\"yield\": 22.46667, \"site\": \"Duluth\", \"variety\": \"Velvet\", \"year\": 1932}, {\"yield\": 29.06667, \"site\": \"University Farm\", \"variety\": \"Trebi\", \"year\": 1932}, {\"yield\": 49.2333, \"site\": \"Waseca\", \"variety\": \"Trebi\", \"year\": 1932}, {\"yield\": 46.63333, \"site\": \"Morris\", \"variety\": \"Trebi\", \"year\": 1932}, {\"yield\": 41.83333, \"site\": \"Crookston\", \"variety\": \"Trebi\", \"year\": 1932}, {\"yield\": 20.63333, \"site\": \"Grand Rapids\", \"variety\": \"Trebi\", \"year\": 1932}, {\"yield\": 30.6, \"site\": \"Duluth\", \"variety\": \"Trebi\", \"year\": 1932}, {\"yield\": 26.43334, \"site\": \"University Farm\", \"variety\": \"No. 457\", \"year\": 1932}, {\"yield\": 42.2, \"site\": \"Waseca\", \"variety\": \"No. 457\", \"year\": 1932}, {\"yield\": 43.53334, \"site\": \"Morris\", \"variety\": \"No. 457\", \"year\": 1932}, {\"yield\": 34.33333, \"site\": \"Crookston\", \"variety\": \"No. 457\", \"year\": 1932}, {\"yield\": 19.46667, \"site\": \"Grand Rapids\", \"variety\": \"No. 457\", \"year\": 1932}, {\"yield\": 22.7, \"site\": \"Duluth\", \"variety\": \"No. 457\", \"year\": 1932}, {\"yield\": 25.56667, \"site\": \"University Farm\", \"variety\": \"No. 462\", \"year\": 1932}, {\"yield\": 44.7, \"site\": \"Waseca\", \"variety\": \"No. 462\", \"year\": 1932}, {\"yield\": 47.0, \"site\": \"Morris\", \"variety\": \"No. 462\", \"year\": 1932}, {\"yield\": 30.53333, \"site\": \"Crookston\", \"variety\": \"No. 462\", \"year\": 1932}, {\"yield\": 19.9, \"site\": \"Grand Rapids\", \"variety\": \"No. 462\", \"year\": 1932}, {\"yield\": 22.5, \"site\": \"Duluth\", \"variety\": \"No. 462\", \"year\": 1932}, {\"yield\": 28.06667, \"site\": \"University Farm\", \"variety\": \"Peatland\", \"year\": 1932}, {\"yield\": 36.03333, \"site\": \"Waseca\", \"variety\": \"Peatland\", \"year\": 1932}, {\"yield\": 43.2, \"site\": \"Morris\", \"variety\": \"Peatland\", \"year\": 1932}, {\"yield\": 25.23333, \"site\": \"Crookston\", \"variety\": \"Peatland\", \"year\": 1932}, {\"yield\": 26.76667, \"site\": \"Grand Rapids\", \"variety\": \"Peatland\", \"year\": 1932}, {\"yield\": 31.36667, \"site\": \"Duluth\", \"variety\": \"Peatland\", \"year\": 1932}, {\"yield\": 30.0, \"site\": \"University Farm\", \"variety\": \"No. 475\", \"year\": 1932}, {\"yield\": 41.26667, \"site\": \"Waseca\", \"variety\": \"No. 475\", \"year\": 1932}, {\"yield\": 44.23333, \"site\": \"Morris\", \"variety\": \"No. 475\", \"year\": 1932}, {\"yield\": 32.13333, \"site\": \"Crookston\", \"variety\": \"No. 475\", \"year\": 1932}, {\"yield\": 15.23333, \"site\": \"Grand Rapids\", \"variety\": \"No. 475\", \"year\": 1932}, {\"yield\": 27.36667, \"site\": \"Duluth\", \"variety\": \"No. 475\", \"year\": 1932}, {\"yield\": 38.0, \"site\": \"University Farm\", \"variety\": \"Wisconsin No. 38\", \"year\": 1932}, {\"yield\": 58.16667, \"site\": \"Waseca\", \"variety\": \"Wisconsin No. 38\", \"year\": 1932}, {\"yield\": 47.16667, \"site\": \"Morris\", \"variety\": \"Wisconsin No. 38\", \"year\": 1932}, {\"yield\": 35.9, \"site\": \"Crookston\", \"variety\": \"Wisconsin No. 38\", \"year\": 1932}, {\"yield\": 20.66667, \"site\": \"Grand Rapids\", \"variety\": \"Wisconsin No. 38\", \"year\": 1932}, {\"yield\": 29.33333, \"site\": \"Duluth\", \"variety\": \"Wisconsin No. 38\", \"year\": 1932}]}, \"config\": {\"cell\": {\"height\": 350, \"width\": 500}}, \"encoding\": {\"x\": {\"aggregate\": \"sum\", \"field\": \"yield\", \"type\": \"quantitative\"}, \"y\": {\"field\": \"variety\", \"type\": \"nominal\"}, \"color\": {\"field\": \"site\", \"type\": \"nominal\"}}};\n",
       "var selector = \"#a23abd28-6365-4ed6-a82f-a85d335653aa\";\n",
       "var type = \"vega-lite\";\n",
       "\n",
       "var output_area = this;\n",
       "require(['nbextensions/jupyter-vega/index'], function(vega) {\n",
       "  vega.render(selector, spec, type, output_area);\n",
       "}, function (err) {\n",
       "  if (err.requireType !== 'scripterror') {\n",
       "    throw(err);\n",
       "  }\n",
       "});\n"
      ]
     },
     "metadata": {
      "jupyter-vega": "#a23abd28-6365-4ed6-a82f-a85d335653aa"
     },
     "output_type": "display_data"
    },
    {
     "data": {
      "image/png": "[encoded data removed]"
     },
     "metadata": {
      "jupyter-vega": "#a23abd28-6365-4ed6-a82f-a85d335653aa"
     },
     "output_type": "display_data"
    }
   ],
   "source": [
    "chart"
   ]
  },
  {
   "cell_type": "markdown",
   "metadata": {},
   "source": [
    "## Output Vega-Lite Specification"
   ]
  },
  {
   "cell_type": "markdown",
   "metadata": {},
   "source": [
    "Generate JSON dict, leaving data out:"
   ]
  },
  {
   "cell_type": "code",
   "execution_count": 5,
   "metadata": {},
   "outputs": [
    {
     "data": {
      "text/plain": [
       "{'$schema': 'https://vega.github.io/schema/vega-lite/v1.2.1.json',\n",
       " 'encoding': {'color': {'field': 'site', 'type': 'nominal'},\n",
       "  'x': {'aggregate': 'sum', 'field': 'yield', 'type': 'quantitative'},\n",
       "  'y': {'field': 'variety', 'type': 'nominal'}},\n",
       " 'mark': 'bar'}"
      ]
     },
     "execution_count": 5,
     "metadata": {},
     "output_type": "execute_result"
    }
   ],
   "source": [
    "chart.to_dict(data=False)"
   ]
  }
 ],
 "metadata": {
  "kernelspec": {
   "display_name": "Python 3",
   "language": "python",
   "name": "python3"
  },
  "language": "python",
  "language_info": {
   "codemirror_mode": {
    "name": "ipython",
    "version": 3
   },
   "file_extension": ".py",
   "mimetype": "text/x-python",
   "name": "python",
   "nbconvert_exporter": "python",
   "pygments_lexer": "ipython3",
   "version": "3.5.2"
  }
 },
 "nbformat": 4,
 "nbformat_minor": 2
}
