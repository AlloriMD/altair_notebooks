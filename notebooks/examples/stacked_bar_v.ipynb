{
 "cells": [
  {
   "cell_type": "markdown",
   "metadata": {},
   "source": [
    "<small>*Notebook auto-generated from [``altair/examples/json/stacked_bar_v.vl.json``](../../altair/examples/json/stacked_bar_v.vl.json)*</small>\n",
    "\n",
    "# Altair Example: Stacked Bar V\n",
    "\n",
    "--\n",
    "\n"
   ]
  },
  {
   "cell_type": "code",
   "execution_count": 1,
   "metadata": {},
   "outputs": [],
   "source": [
    "# Uncomment and run these two lines to enable rendering in JupyterLab/nteract\n",
    "# from altair import enable_mime_rendering\n",
    "# enable_mime_rendering()"
   ]
  },
  {
   "cell_type": "markdown",
   "metadata": {},
   "source": [
    "## Load Dataset\n",
    "The data comes in the form of a Pandas Dataframe:"
   ]
  },
  {
   "cell_type": "code",
   "execution_count": 2,
   "metadata": {},
   "outputs": [
    {
     "data": {
      "text/html": [
       "<div>\n",
       "<style>\n",
       "    .dataframe thead tr:only-child th {\n",
       "        text-align: right;\n",
       "    }\n",
       "\n",
       "    .dataframe thead th {\n",
       "        text-align: left;\n",
       "    }\n",
       "\n",
       "    .dataframe tbody tr th {\n",
       "        vertical-align: top;\n",
       "    }\n",
       "</style>\n",
       "<table border=\"1\" class=\"dataframe\">\n",
       "  <thead>\n",
       "    <tr style=\"text-align: right;\">\n",
       "      <th></th>\n",
       "      <th>site</th>\n",
       "      <th>variety</th>\n",
       "      <th>year</th>\n",
       "      <th>yield</th>\n",
       "    </tr>\n",
       "  </thead>\n",
       "  <tbody>\n",
       "    <tr>\n",
       "      <th>0</th>\n",
       "      <td>University Farm</td>\n",
       "      <td>Manchuria</td>\n",
       "      <td>1931</td>\n",
       "      <td>27.00000</td>\n",
       "    </tr>\n",
       "    <tr>\n",
       "      <th>1</th>\n",
       "      <td>Waseca</td>\n",
       "      <td>Manchuria</td>\n",
       "      <td>1931</td>\n",
       "      <td>48.86667</td>\n",
       "    </tr>\n",
       "    <tr>\n",
       "      <th>2</th>\n",
       "      <td>Morris</td>\n",
       "      <td>Manchuria</td>\n",
       "      <td>1931</td>\n",
       "      <td>27.43334</td>\n",
       "    </tr>\n",
       "    <tr>\n",
       "      <th>3</th>\n",
       "      <td>Crookston</td>\n",
       "      <td>Manchuria</td>\n",
       "      <td>1931</td>\n",
       "      <td>39.93333</td>\n",
       "    </tr>\n",
       "    <tr>\n",
       "      <th>4</th>\n",
       "      <td>Grand Rapids</td>\n",
       "      <td>Manchuria</td>\n",
       "      <td>1931</td>\n",
       "      <td>32.96667</td>\n",
       "    </tr>\n",
       "  </tbody>\n",
       "</table>\n",
       "</div>"
      ],
      "text/plain": [
       "              site    variety  year     yield\n",
       "0  University Farm  Manchuria  1931  27.00000\n",
       "1           Waseca  Manchuria  1931  48.86667\n",
       "2           Morris  Manchuria  1931  27.43334\n",
       "3        Crookston  Manchuria  1931  39.93333\n",
       "4     Grand Rapids  Manchuria  1931  32.96667"
      ]
     },
     "execution_count": 2,
     "metadata": {},
     "output_type": "execute_result"
    }
   ],
   "source": [
    "from altair import load_dataset\n",
    "data = load_dataset(\"barley\")\n",
    "data.head()"
   ]
  },
  {
   "cell_type": "markdown",
   "metadata": {},
   "source": [
    "## Define Altair Specification"
   ]
  },
  {
   "cell_type": "code",
   "execution_count": 3,
   "metadata": {},
   "outputs": [],
   "source": [
    "from altair import *  # Import the altair API\n",
    "\n",
    "chart = Chart(data).mark_bar().encode(\n",
    "    color='site:N',\n",
    "    x='variety:N',\n",
    "    y='sum(yield):Q',\n",
    ")\n",
    "\n",
    "chart.max_rows = len(data)  # Altair 1.2.1 has a max_rows of 500 by default"
   ]
  },
  {
   "cell_type": "markdown",
   "metadata": {},
   "source": [
    "IPython rich display will invoke Vega-Lite:"
   ]
  },
  {
   "cell_type": "code",
   "execution_count": 4,
   "metadata": {},
   "outputs": [
    {
     "data": {
      "text/html": [
       "<div class=\"vega-embed\" id=\"7e59823f-7112-464f-9824-ae9dc65b6c6c\"></div>\n",
       "\n",
       "<style>\n",
       ".vega-embed svg, .vega-embed canvas {\n",
       "  border: 1px dotted gray;\n",
       "}\n",
       "\n",
       ".vega-embed .vega-actions a {\n",
       "  margin-right: 6px;\n",
       "}\n",
       "</style>\n"
      ]
     },
     "metadata": {
      "jupyter-vega": "#7e59823f-7112-464f-9824-ae9dc65b6c6c"
     },
     "output_type": "display_data"
    },
    {
     "data": {
      "application/javascript": [
       "var spec = {\"mark\": \"bar\", \"encoding\": {\"x\": {\"type\": \"nominal\", \"field\": \"variety\"}, \"y\": {\"aggregate\": \"sum\", \"type\": \"quantitative\", \"field\": \"yield\"}, \"color\": {\"type\": \"nominal\", \"field\": \"site\"}}, \"config\": {\"cell\": {\"height\": 350, \"width\": 500}}, \"$schema\": \"https://vega.github.io/schema/vega-lite/v1.2.1.json\", \"data\": {\"values\": [{\"yield\": 27.0, \"variety\": \"Manchuria\", \"site\": \"University Farm\", \"year\": 1931}, {\"yield\": 48.86667, \"variety\": \"Manchuria\", \"site\": \"Waseca\", \"year\": 1931}, {\"yield\": 27.43334, \"variety\": \"Manchuria\", \"site\": \"Morris\", \"year\": 1931}, {\"yield\": 39.93333, \"variety\": \"Manchuria\", \"site\": \"Crookston\", \"year\": 1931}, {\"yield\": 32.96667, \"variety\": \"Manchuria\", \"site\": \"Grand Rapids\", \"year\": 1931}, {\"yield\": 28.96667, \"variety\": \"Manchuria\", \"site\": \"Duluth\", \"year\": 1931}, {\"yield\": 43.06666, \"variety\": \"Glabron\", \"site\": \"University Farm\", \"year\": 1931}, {\"yield\": 55.2, \"variety\": \"Glabron\", \"site\": \"Waseca\", \"year\": 1931}, {\"yield\": 28.76667, \"variety\": \"Glabron\", \"site\": \"Morris\", \"year\": 1931}, {\"yield\": 38.13333, \"variety\": \"Glabron\", \"site\": \"Crookston\", \"year\": 1931}, {\"yield\": 29.13333, \"variety\": \"Glabron\", \"site\": \"Grand Rapids\", \"year\": 1931}, {\"yield\": 29.66667, \"variety\": \"Glabron\", \"site\": \"Duluth\", \"year\": 1931}, {\"yield\": 35.13333, \"variety\": \"Svansota\", \"site\": \"University Farm\", \"year\": 1931}, {\"yield\": 47.33333, \"variety\": \"Svansota\", \"site\": \"Waseca\", \"year\": 1931}, {\"yield\": 25.76667, \"variety\": \"Svansota\", \"site\": \"Morris\", \"year\": 1931}, {\"yield\": 40.46667, \"variety\": \"Svansota\", \"site\": \"Crookston\", \"year\": 1931}, {\"yield\": 29.66667, \"variety\": \"Svansota\", \"site\": \"Grand Rapids\", \"year\": 1931}, {\"yield\": 25.7, \"variety\": \"Svansota\", \"site\": \"Duluth\", \"year\": 1931}, {\"yield\": 39.9, \"variety\": \"Velvet\", \"site\": \"University Farm\", \"year\": 1931}, {\"yield\": 50.23333, \"variety\": \"Velvet\", \"site\": \"Waseca\", \"year\": 1931}, {\"yield\": 26.13333, \"variety\": \"Velvet\", \"site\": \"Morris\", \"year\": 1931}, {\"yield\": 41.33333, \"variety\": \"Velvet\", \"site\": \"Crookston\", \"year\": 1931}, {\"yield\": 23.03333, \"variety\": \"Velvet\", \"site\": \"Grand Rapids\", \"year\": 1931}, {\"yield\": 26.3, \"variety\": \"Velvet\", \"site\": \"Duluth\", \"year\": 1931}, {\"yield\": 36.56666, \"variety\": \"Trebi\", \"site\": \"University Farm\", \"year\": 1931}, {\"yield\": 63.8333, \"variety\": \"Trebi\", \"site\": \"Waseca\", \"year\": 1931}, {\"yield\": 43.76667, \"variety\": \"Trebi\", \"site\": \"Morris\", \"year\": 1931}, {\"yield\": 46.93333, \"variety\": \"Trebi\", \"site\": \"Crookston\", \"year\": 1931}, {\"yield\": 29.76667, \"variety\": \"Trebi\", \"site\": \"Grand Rapids\", \"year\": 1931}, {\"yield\": 33.93333, \"variety\": \"Trebi\", \"site\": \"Duluth\", \"year\": 1931}, {\"yield\": 43.26667, \"variety\": \"No. 457\", \"site\": \"University Farm\", \"year\": 1931}, {\"yield\": 58.1, \"variety\": \"No. 457\", \"site\": \"Waseca\", \"year\": 1931}, {\"yield\": 28.7, \"variety\": \"No. 457\", \"site\": \"Morris\", \"year\": 1931}, {\"yield\": 45.66667, \"variety\": \"No. 457\", \"site\": \"Crookston\", \"year\": 1931}, {\"yield\": 32.16667, \"variety\": \"No. 457\", \"site\": \"Grand Rapids\", \"year\": 1931}, {\"yield\": 33.6, \"variety\": \"No. 457\", \"site\": \"Duluth\", \"year\": 1931}, {\"yield\": 36.6, \"variety\": \"No. 462\", \"site\": \"University Farm\", \"year\": 1931}, {\"yield\": 65.7667, \"variety\": \"No. 462\", \"site\": \"Waseca\", \"year\": 1931}, {\"yield\": 30.36667, \"variety\": \"No. 462\", \"site\": \"Morris\", \"year\": 1931}, {\"yield\": 48.56666, \"variety\": \"No. 462\", \"site\": \"Crookston\", \"year\": 1931}, {\"yield\": 24.93334, \"variety\": \"No. 462\", \"site\": \"Grand Rapids\", \"year\": 1931}, {\"yield\": 28.1, \"variety\": \"No. 462\", \"site\": \"Duluth\", \"year\": 1931}, {\"yield\": 32.76667, \"variety\": \"Peatland\", \"site\": \"University Farm\", \"year\": 1931}, {\"yield\": 48.56666, \"variety\": \"Peatland\", \"site\": \"Waseca\", \"year\": 1931}, {\"yield\": 29.86667, \"variety\": \"Peatland\", \"site\": \"Morris\", \"year\": 1931}, {\"yield\": 41.6, \"variety\": \"Peatland\", \"site\": \"Crookston\", \"year\": 1931}, {\"yield\": 34.7, \"variety\": \"Peatland\", \"site\": \"Grand Rapids\", \"year\": 1931}, {\"yield\": 32.0, \"variety\": \"Peatland\", \"site\": \"Duluth\", \"year\": 1931}, {\"yield\": 24.66667, \"variety\": \"No. 475\", \"site\": \"University Farm\", \"year\": 1931}, {\"yield\": 46.76667, \"variety\": \"No. 475\", \"site\": \"Waseca\", \"year\": 1931}, {\"yield\": 22.6, \"variety\": \"No. 475\", \"site\": \"Morris\", \"year\": 1931}, {\"yield\": 44.1, \"variety\": \"No. 475\", \"site\": \"Crookston\", \"year\": 1931}, {\"yield\": 19.7, \"variety\": \"No. 475\", \"site\": \"Grand Rapids\", \"year\": 1931}, {\"yield\": 33.06666, \"variety\": \"No. 475\", \"site\": \"Duluth\", \"year\": 1931}, {\"yield\": 39.3, \"variety\": \"Wisconsin No. 38\", \"site\": \"University Farm\", \"year\": 1931}, {\"yield\": 58.8, \"variety\": \"Wisconsin No. 38\", \"site\": \"Waseca\", \"year\": 1931}, {\"yield\": 29.46667, \"variety\": \"Wisconsin No. 38\", \"site\": \"Morris\", \"year\": 1931}, {\"yield\": 49.86667, \"variety\": \"Wisconsin No. 38\", \"site\": \"Crookston\", \"year\": 1931}, {\"yield\": 34.46667, \"variety\": \"Wisconsin No. 38\", \"site\": \"Grand Rapids\", \"year\": 1931}, {\"yield\": 31.6, \"variety\": \"Wisconsin No. 38\", \"site\": \"Duluth\", \"year\": 1931}, {\"yield\": 26.9, \"variety\": \"Manchuria\", \"site\": \"University Farm\", \"year\": 1932}, {\"yield\": 33.46667, \"variety\": \"Manchuria\", \"site\": \"Waseca\", \"year\": 1932}, {\"yield\": 34.36666, \"variety\": \"Manchuria\", \"site\": \"Morris\", \"year\": 1932}, {\"yield\": 32.96667, \"variety\": \"Manchuria\", \"site\": \"Crookston\", \"year\": 1932}, {\"yield\": 22.13333, \"variety\": \"Manchuria\", \"site\": \"Grand Rapids\", \"year\": 1932}, {\"yield\": 22.56667, \"variety\": \"Manchuria\", \"site\": \"Duluth\", \"year\": 1932}, {\"yield\": 36.8, \"variety\": \"Glabron\", \"site\": \"University Farm\", \"year\": 1932}, {\"yield\": 37.73333, \"variety\": \"Glabron\", \"site\": \"Waseca\", \"year\": 1932}, {\"yield\": 35.13333, \"variety\": \"Glabron\", \"site\": \"Morris\", \"year\": 1932}, {\"yield\": 26.16667, \"variety\": \"Glabron\", \"site\": \"Crookston\", \"year\": 1932}, {\"yield\": 14.43333, \"variety\": \"Glabron\", \"site\": \"Grand Rapids\", \"year\": 1932}, {\"yield\": 25.86667, \"variety\": \"Glabron\", \"site\": \"Duluth\", \"year\": 1932}, {\"yield\": 27.43334, \"variety\": \"Svansota\", \"site\": \"University Farm\", \"year\": 1932}, {\"yield\": 38.5, \"variety\": \"Svansota\", \"site\": \"Waseca\", \"year\": 1932}, {\"yield\": 35.03333, \"variety\": \"Svansota\", \"site\": \"Morris\", \"year\": 1932}, {\"yield\": 20.63333, \"variety\": \"Svansota\", \"site\": \"Crookston\", \"year\": 1932}, {\"yield\": 16.63333, \"variety\": \"Svansota\", \"site\": \"Grand Rapids\", \"year\": 1932}, {\"yield\": 22.23333, \"variety\": \"Svansota\", \"site\": \"Duluth\", \"year\": 1932}, {\"yield\": 26.8, \"variety\": \"Velvet\", \"site\": \"University Farm\", \"year\": 1932}, {\"yield\": 37.4, \"variety\": \"Velvet\", \"site\": \"Waseca\", \"year\": 1932}, {\"yield\": 38.83333, \"variety\": \"Velvet\", \"site\": \"Morris\", \"year\": 1932}, {\"yield\": 32.06666, \"variety\": \"Velvet\", \"site\": \"Crookston\", \"year\": 1932}, {\"yield\": 32.23333, \"variety\": \"Velvet\", \"site\": \"Grand Rapids\", \"year\": 1932}, {\"yield\": 22.46667, \"variety\": \"Velvet\", \"site\": \"Duluth\", \"year\": 1932}, {\"yield\": 29.06667, \"variety\": \"Trebi\", \"site\": \"University Farm\", \"year\": 1932}, {\"yield\": 49.2333, \"variety\": \"Trebi\", \"site\": \"Waseca\", \"year\": 1932}, {\"yield\": 46.63333, \"variety\": \"Trebi\", \"site\": \"Morris\", \"year\": 1932}, {\"yield\": 41.83333, \"variety\": \"Trebi\", \"site\": \"Crookston\", \"year\": 1932}, {\"yield\": 20.63333, \"variety\": \"Trebi\", \"site\": \"Grand Rapids\", \"year\": 1932}, {\"yield\": 30.6, \"variety\": \"Trebi\", \"site\": \"Duluth\", \"year\": 1932}, {\"yield\": 26.43334, \"variety\": \"No. 457\", \"site\": \"University Farm\", \"year\": 1932}, {\"yield\": 42.2, \"variety\": \"No. 457\", \"site\": \"Waseca\", \"year\": 1932}, {\"yield\": 43.53334, \"variety\": \"No. 457\", \"site\": \"Morris\", \"year\": 1932}, {\"yield\": 34.33333, \"variety\": \"No. 457\", \"site\": \"Crookston\", \"year\": 1932}, {\"yield\": 19.46667, \"variety\": \"No. 457\", \"site\": \"Grand Rapids\", \"year\": 1932}, {\"yield\": 22.7, \"variety\": \"No. 457\", \"site\": \"Duluth\", \"year\": 1932}, {\"yield\": 25.56667, \"variety\": \"No. 462\", \"site\": \"University Farm\", \"year\": 1932}, {\"yield\": 44.7, \"variety\": \"No. 462\", \"site\": \"Waseca\", \"year\": 1932}, {\"yield\": 47.0, \"variety\": \"No. 462\", \"site\": \"Morris\", \"year\": 1932}, {\"yield\": 30.53333, \"variety\": \"No. 462\", \"site\": \"Crookston\", \"year\": 1932}, {\"yield\": 19.9, \"variety\": \"No. 462\", \"site\": \"Grand Rapids\", \"year\": 1932}, {\"yield\": 22.5, \"variety\": \"No. 462\", \"site\": \"Duluth\", \"year\": 1932}, {\"yield\": 28.06667, \"variety\": \"Peatland\", \"site\": \"University Farm\", \"year\": 1932}, {\"yield\": 36.03333, \"variety\": \"Peatland\", \"site\": \"Waseca\", \"year\": 1932}, {\"yield\": 43.2, \"variety\": \"Peatland\", \"site\": \"Morris\", \"year\": 1932}, {\"yield\": 25.23333, \"variety\": \"Peatland\", \"site\": \"Crookston\", \"year\": 1932}, {\"yield\": 26.76667, \"variety\": \"Peatland\", \"site\": \"Grand Rapids\", \"year\": 1932}, {\"yield\": 31.36667, \"variety\": \"Peatland\", \"site\": \"Duluth\", \"year\": 1932}, {\"yield\": 30.0, \"variety\": \"No. 475\", \"site\": \"University Farm\", \"year\": 1932}, {\"yield\": 41.26667, \"variety\": \"No. 475\", \"site\": \"Waseca\", \"year\": 1932}, {\"yield\": 44.23333, \"variety\": \"No. 475\", \"site\": \"Morris\", \"year\": 1932}, {\"yield\": 32.13333, \"variety\": \"No. 475\", \"site\": \"Crookston\", \"year\": 1932}, {\"yield\": 15.23333, \"variety\": \"No. 475\", \"site\": \"Grand Rapids\", \"year\": 1932}, {\"yield\": 27.36667, \"variety\": \"No. 475\", \"site\": \"Duluth\", \"year\": 1932}, {\"yield\": 38.0, \"variety\": \"Wisconsin No. 38\", \"site\": \"University Farm\", \"year\": 1932}, {\"yield\": 58.16667, \"variety\": \"Wisconsin No. 38\", \"site\": \"Waseca\", \"year\": 1932}, {\"yield\": 47.16667, \"variety\": \"Wisconsin No. 38\", \"site\": \"Morris\", \"year\": 1932}, {\"yield\": 35.9, \"variety\": \"Wisconsin No. 38\", \"site\": \"Crookston\", \"year\": 1932}, {\"yield\": 20.66667, \"variety\": \"Wisconsin No. 38\", \"site\": \"Grand Rapids\", \"year\": 1932}, {\"yield\": 29.33333, \"variety\": \"Wisconsin No. 38\", \"site\": \"Duluth\", \"year\": 1932}]}};\n",
       "var selector = \"#7e59823f-7112-464f-9824-ae9dc65b6c6c\";\n",
       "var type = \"vega-lite\";\n",
       "\n",
       "var output_area = this;\n",
       "require(['nbextensions/jupyter-vega/index'], function(vega) {\n",
       "  vega.render(selector, spec, type, output_area);\n",
       "}, function (err) {\n",
       "  if (err.requireType !== 'scripterror') {\n",
       "    throw(err);\n",
       "  }\n",
       "});\n"
      ]
     },
     "metadata": {
      "jupyter-vega": "#7e59823f-7112-464f-9824-ae9dc65b6c6c"
     },
     "output_type": "display_data"
    },
    {
     "data": {
      "image/png": "[encoded data removed]"
     },
     "metadata": {
      "jupyter-vega": "#7e59823f-7112-464f-9824-ae9dc65b6c6c"
     },
     "output_type": "display_data"
    }
   ],
   "source": [
    "chart"
   ]
  },
  {
   "cell_type": "markdown",
   "metadata": {},
   "source": [
    "## Output Vega-Lite Specification"
   ]
  },
  {
   "cell_type": "markdown",
   "metadata": {},
   "source": [
    "Generate JSON dict, leaving data out:"
   ]
  },
  {
   "cell_type": "code",
   "execution_count": 5,
   "metadata": {},
   "outputs": [
    {
     "data": {
      "text/plain": [
       "{'$schema': 'https://vega.github.io/schema/vega-lite/v1.2.1.json',\n",
       " 'encoding': {'color': {'field': 'site', 'type': 'nominal'},\n",
       "  'x': {'field': 'variety', 'type': 'nominal'},\n",
       "  'y': {'aggregate': 'sum', 'field': 'yield', 'type': 'quantitative'}},\n",
       " 'mark': 'bar'}"
      ]
     },
     "execution_count": 5,
     "metadata": {},
     "output_type": "execute_result"
    }
   ],
   "source": [
    "chart.to_dict(data=False)"
   ]
  }
 ],
 "metadata": {
  "kernelspec": {
   "display_name": "Python 3",
   "language": "python",
   "name": "python3"
  },
  "language": "python",
  "language_info": {
   "codemirror_mode": {
    "name": "ipython",
    "version": 3
   },
   "file_extension": ".py",
   "mimetype": "text/x-python",
   "name": "python",
   "nbconvert_exporter": "python",
   "pygments_lexer": "ipython3",
   "version": "3.5.2"
  }
 },
 "nbformat": 4,
 "nbformat_minor": 2
}
