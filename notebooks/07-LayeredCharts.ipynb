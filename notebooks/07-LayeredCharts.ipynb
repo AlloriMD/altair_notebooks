{
 "cells": [
  {
   "cell_type": "markdown",
   "metadata": {},
   "source": [
    "# Layered Charts"
   ]
  },
  {
   "cell_type": "markdown",
   "metadata": {},
   "source": [
    "A `LayeredChart` allows you to stack multiple individual charts on top of each other as layers. For example, this could be used to create a chart with both lines and points."
   ]
  },
  {
   "cell_type": "markdown",
   "metadata": {},
   "source": [
    "## Imports"
   ]
  },
  {
   "cell_type": "code",
   "execution_count": 1,
   "metadata": {},
   "outputs": [],
   "source": [
    "import altair as alt\n",
    "import pandas as pd\n",
    "import numpy as np"
   ]
  },
  {
   "cell_type": "code",
   "execution_count": 2,
   "metadata": {},
   "outputs": [],
   "source": [
    "# Uncomment/run this line to enable Altair in the classic notebook (not JupyterLab)\n",
    "# alt.renderers.enable('notebook')"
   ]
  },
  {
   "cell_type": "markdown",
   "metadata": {},
   "source": [
    "## Data"
   ]
  },
  {
   "cell_type": "code",
   "execution_count": 3,
   "metadata": {},
   "outputs": [],
   "source": [
    "np.random.seed(181)\n",
    "data = pd.DataFrame({'x': np.arange(10),\n",
    "                     'y':np.random.rand(10)})"
   ]
  },
  {
   "cell_type": "code",
   "execution_count": 4,
   "metadata": {},
   "outputs": [
    {
     "data": {
      "text/html": [
       "<div>\n",
       "<style scoped>\n",
       "    .dataframe tbody tr th:only-of-type {\n",
       "        vertical-align: middle;\n",
       "    }\n",
       "\n",
       "    .dataframe tbody tr th {\n",
       "        vertical-align: top;\n",
       "    }\n",
       "\n",
       "    .dataframe thead th {\n",
       "        text-align: right;\n",
       "    }\n",
       "</style>\n",
       "<table border=\"1\" class=\"dataframe\">\n",
       "  <thead>\n",
       "    <tr style=\"text-align: right;\">\n",
       "      <th></th>\n",
       "      <th>x</th>\n",
       "      <th>y</th>\n",
       "    </tr>\n",
       "  </thead>\n",
       "  <tbody>\n",
       "    <tr>\n",
       "      <th>0</th>\n",
       "      <td>0</td>\n",
       "      <td>0.524023</td>\n",
       "    </tr>\n",
       "    <tr>\n",
       "      <th>1</th>\n",
       "      <td>1</td>\n",
       "      <td>0.114090</td>\n",
       "    </tr>\n",
       "    <tr>\n",
       "      <th>2</th>\n",
       "      <td>2</td>\n",
       "      <td>0.570567</td>\n",
       "    </tr>\n",
       "    <tr>\n",
       "      <th>3</th>\n",
       "      <td>3</td>\n",
       "      <td>0.405836</td>\n",
       "    </tr>\n",
       "    <tr>\n",
       "      <th>4</th>\n",
       "      <td>4</td>\n",
       "      <td>0.182134</td>\n",
       "    </tr>\n",
       "  </tbody>\n",
       "</table>\n",
       "</div>"
      ],
      "text/plain": [
       "   x         y\n",
       "0  0  0.524023\n",
       "1  1  0.114090\n",
       "2  2  0.570567\n",
       "3  3  0.405836\n",
       "4  4  0.182134"
      ]
     },
     "execution_count": 4,
     "metadata": {},
     "output_type": "execute_result"
    }
   ],
   "source": [
    "data.head()"
   ]
  },
  {
   "cell_type": "markdown",
   "metadata": {},
   "source": [
    "## Layered charts"
   ]
  },
  {
   "cell_type": "markdown",
   "metadata": {},
   "source": [
    "Suppose you have defined two charts, and you would like to plot them on the same set of axes.\n",
    "This comes up often when creating a compound chart with points and lines marking the same data.\n",
    "For example:"
   ]
  },
  {
   "cell_type": "code",
   "execution_count": 5,
   "metadata": {},
   "outputs": [],
   "source": [
    "layer1 = alt.Chart(data).mark_point().encode(\n",
    "    x='x:Q',\n",
    "    y='y:Q'\n",
    ")\n",
    "\n",
    "layer2 = alt.Chart(data).mark_line().encode(\n",
    "    x='x:Q',\n",
    "    y='y:Q'\n",
    ")"
   ]
  },
  {
   "cell_type": "markdown",
   "metadata": {},
   "source": [
    "The most succinct way to layer two charts is to use the ``+`` operator:"
   ]
  },
  {
   "cell_type": "code",
   "execution_count": 6,
   "metadata": {},
   "outputs": [
    {
     "data": {
      "application/vnd.vegalite.v2+json": {
       "$schema": "https://vega.github.io/schema/vega-lite/v2.json",
       "config": {
        "view": {
         "height": 300,
         "width": 400
        }
       },
       "layer": [
        {
         "data": {
          "values": [
           {
            "x": 0,
            "y": 0.524023109374771
           },
           {
            "x": 1,
            "y": 0.1140895628049603
           },
           {
            "x": 2,
            "y": 0.570567216766435
           },
           {
            "x": 3,
            "y": 0.40583553271085016
           },
           {
            "x": 4,
            "y": 0.18213411427434878
           },
           {
            "x": 5,
            "y": 0.15673625959653692
           },
           {
            "x": 6,
            "y": 0.3191196698425649
           },
           {
            "x": 7,
            "y": 0.332187583621654
           },
           {
            "x": 8,
            "y": 0.7133750464773594
           },
           {
            "x": 9,
            "y": 0.7022215727571003
           }
          ]
         },
         "encoding": {
          "x": {
           "field": "x",
           "type": "quantitative"
          },
          "y": {
           "field": "y",
           "type": "quantitative"
          }
         },
         "mark": "point"
        },
        {
         "data": {
          "values": [
           {
            "x": 0,
            "y": 0.524023109374771
           },
           {
            "x": 1,
            "y": 0.1140895628049603
           },
           {
            "x": 2,
            "y": 0.570567216766435
           },
           {
            "x": 3,
            "y": 0.40583553271085016
           },
           {
            "x": 4,
            "y": 0.18213411427434878
           },
           {
            "x": 5,
            "y": 0.15673625959653692
           },
           {
            "x": 6,
            "y": 0.3191196698425649
           },
           {
            "x": 7,
            "y": 0.332187583621654
           },
           {
            "x": 8,
            "y": 0.7133750464773594
           },
           {
            "x": 9,
            "y": 0.7022215727571003
           }
          ]
         },
         "encoding": {
          "x": {
           "field": "x",
           "type": "quantitative"
          },
          "y": {
           "field": "y",
           "type": "quantitative"
          }
         },
         "mark": "line"
        }
       ]
      },
      "text/plain": [
       "<VegaLite 2 object>"
      ]
     },
     "execution_count": 6,
     "metadata": {},
     "output_type": "execute_result"
    }
   ],
   "source": [
    "layer1 + layer2"
   ]
  },
  {
   "cell_type": "markdown",
   "metadata": {},
   "source": [
    "One problem with this is that you end up specifying the encodings and data multiple times; you can instead build both layers from the same base chart:"
   ]
  },
  {
   "cell_type": "code",
   "execution_count": 7,
   "metadata": {},
   "outputs": [
    {
     "data": {
      "application/vnd.vegalite.v2+json": {
       "$schema": "https://vega.github.io/schema/vega-lite/v2.json",
       "config": {
        "view": {
         "height": 300,
         "width": 400
        }
       },
       "layer": [
        {
         "data": {
          "values": [
           {
            "x": 0,
            "y": 0.524023109374771
           },
           {
            "x": 1,
            "y": 0.1140895628049603
           },
           {
            "x": 2,
            "y": 0.570567216766435
           },
           {
            "x": 3,
            "y": 0.40583553271085016
           },
           {
            "x": 4,
            "y": 0.18213411427434878
           },
           {
            "x": 5,
            "y": 0.15673625959653692
           },
           {
            "x": 6,
            "y": 0.3191196698425649
           },
           {
            "x": 7,
            "y": 0.332187583621654
           },
           {
            "x": 8,
            "y": 0.7133750464773594
           },
           {
            "x": 9,
            "y": 0.7022215727571003
           }
          ]
         },
         "encoding": {
          "x": {
           "field": "x",
           "type": "quantitative"
          },
          "y": {
           "field": "y",
           "type": "quantitative"
          }
         },
         "mark": "line"
        },
        {
         "data": {
          "values": [
           {
            "x": 0,
            "y": 0.524023109374771
           },
           {
            "x": 1,
            "y": 0.1140895628049603
           },
           {
            "x": 2,
            "y": 0.570567216766435
           },
           {
            "x": 3,
            "y": 0.40583553271085016
           },
           {
            "x": 4,
            "y": 0.18213411427434878
           },
           {
            "x": 5,
            "y": 0.15673625959653692
           },
           {
            "x": 6,
            "y": 0.3191196698425649
           },
           {
            "x": 7,
            "y": 0.332187583621654
           },
           {
            "x": 8,
            "y": 0.7133750464773594
           },
           {
            "x": 9,
            "y": 0.7022215727571003
           }
          ]
         },
         "encoding": {
          "x": {
           "field": "x",
           "type": "quantitative"
          },
          "y": {
           "field": "y",
           "type": "quantitative"
          }
         },
         "mark": "point"
        }
       ]
      },
      "text/plain": [
       "<VegaLite 2 object>"
      ]
     },
     "execution_count": 7,
     "metadata": {},
     "output_type": "execute_result"
    }
   ],
   "source": [
    "base = alt.Chart(data).encode(\n",
    "    x='x:Q',\n",
    "    y='y:Q'\n",
    ")\n",
    "\n",
    "base.mark_line() + base.mark_point()"
   ]
  },
  {
   "cell_type": "markdown",
   "metadata": {},
   "source": [
    "To be a bit more explicit, you can use the ``alt.layer`` function, which produces the same thing:"
   ]
  },
  {
   "cell_type": "code",
   "execution_count": 8,
   "metadata": {},
   "outputs": [
    {
     "data": {
      "application/vnd.vegalite.v2+json": {
       "$schema": "https://vega.github.io/schema/vega-lite/v2.json",
       "config": {
        "view": {
         "height": 300,
         "width": 400
        }
       },
       "layer": [
        {
         "data": {
          "values": [
           {
            "x": 0,
            "y": 0.524023109374771
           },
           {
            "x": 1,
            "y": 0.1140895628049603
           },
           {
            "x": 2,
            "y": 0.570567216766435
           },
           {
            "x": 3,
            "y": 0.40583553271085016
           },
           {
            "x": 4,
            "y": 0.18213411427434878
           },
           {
            "x": 5,
            "y": 0.15673625959653692
           },
           {
            "x": 6,
            "y": 0.3191196698425649
           },
           {
            "x": 7,
            "y": 0.332187583621654
           },
           {
            "x": 8,
            "y": 0.7133750464773594
           },
           {
            "x": 9,
            "y": 0.7022215727571003
           }
          ]
         },
         "encoding": {
          "x": {
           "field": "x",
           "type": "quantitative"
          },
          "y": {
           "field": "y",
           "type": "quantitative"
          }
         },
         "mark": "line"
        },
        {
         "data": {
          "values": [
           {
            "x": 0,
            "y": 0.524023109374771
           },
           {
            "x": 1,
            "y": 0.1140895628049603
           },
           {
            "x": 2,
            "y": 0.570567216766435
           },
           {
            "x": 3,
            "y": 0.40583553271085016
           },
           {
            "x": 4,
            "y": 0.18213411427434878
           },
           {
            "x": 5,
            "y": 0.15673625959653692
           },
           {
            "x": 6,
            "y": 0.3191196698425649
           },
           {
            "x": 7,
            "y": 0.332187583621654
           },
           {
            "x": 8,
            "y": 0.7133750464773594
           },
           {
            "x": 9,
            "y": 0.7022215727571003
           }
          ]
         },
         "encoding": {
          "x": {
           "field": "x",
           "type": "quantitative"
          },
          "y": {
           "field": "y",
           "type": "quantitative"
          }
         },
         "mark": "point"
        }
       ]
      },
      "text/plain": [
       "<VegaLite 2 object>"
      ]
     },
     "execution_count": 8,
     "metadata": {},
     "output_type": "execute_result"
    }
   ],
   "source": [
    "alt.layer(\n",
    "    base.mark_line(),\n",
    "    base.mark_point()\n",
    ")"
   ]
  }
 ],
 "metadata": {
  "anaconda-cloud": {},
  "kernelspec": {
   "display_name": "Python 3",
   "language": "python",
   "name": "python3"
  },
  "language_info": {
   "codemirror_mode": {
    "name": "ipython",
    "version": 3
   },
   "file_extension": ".py",
   "mimetype": "text/x-python",
   "name": "python",
   "nbconvert_exporter": "python",
   "pygments_lexer": "ipython3",
   "version": "3.6.3"
  }
 },
 "nbformat": 4,
 "nbformat_minor": 2
}
